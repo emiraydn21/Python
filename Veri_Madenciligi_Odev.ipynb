{
  "nbformat": 4,
  "nbformat_minor": 0,
  "metadata": {
    "colab": {
      "provenance": [],
      "authorship_tag": "ABX9TyP+jQkJtta6OwfaCUNLa3g7",
      "include_colab_link": true
    },
    "kernelspec": {
      "name": "python3",
      "display_name": "Python 3"
    },
    "language_info": {
      "name": "python"
    },
    "accelerator": "GPU",
    "gpuClass": "standard"
  },
  "cells": [
    {
      "cell_type": "markdown",
      "metadata": {
        "id": "view-in-github",
        "colab_type": "text"
      },
      "source": [
        "<a href=\"https://colab.research.google.com/github/emiraydn21/Python/blob/main/Veri_Madenciligi_Odev.ipynb\" target=\"_parent\"><img src=\"https://colab.research.google.com/assets/colab-badge.svg\" alt=\"Open In Colab\"/></a>"
      ]
    },
    {
      "cell_type": "markdown",
      "source": [
        "#Drive İzin\n"
      ],
      "metadata": {
        "id": "ZkHAED4pNIPn"
      }
    },
    {
      "cell_type": "code",
      "execution_count": null,
      "metadata": {
        "colab": {
          "base_uri": "https://localhost:8080/"
        },
        "id": "g3Fcb-aVMp2f",
        "outputId": "ed16bdff-df71-4376-906b-3f5ca2224a90"
      },
      "outputs": [
        {
          "output_type": "stream",
          "name": "stdout",
          "text": [
            "Drive already mounted at /content/drive; to attempt to forcibly remount, call drive.mount(\"/content/drive\", force_remount=True).\n"
          ]
        }
      ],
      "source": [
        "from google.colab import drive\n",
        "drive.mount('/content/drive')"
      ]
    },
    {
      "cell_type": "markdown",
      "source": [
        "Drive İçerik Görüntüleme\n"
      ],
      "metadata": {
        "id": "MOtaHNSZPSPv"
      }
    },
    {
      "cell_type": "code",
      "source": [
        "!ls '/content/drive/My Drive'"
      ],
      "metadata": {
        "colab": {
          "base_uri": "https://localhost:8080/"
        },
        "id": "Y2DCkRlhOXBr",
        "outputId": "e1a34157-80a1-44b4-a83e-3b71fd1ed39e"
      },
      "execution_count": null,
      "outputs": [
        {
          "output_type": "stream",
          "name": "stdout",
          "text": [
            " 163740135_3781017935286070_918572564930681688_n.mp4\n",
            " 20210211_175108.jpg\n",
            " 20210211_175114.jpg\n",
            " 20210211_202743.jpg\n",
            " 20210211_202757.jpg\n",
            " 20210211_222421.jpg\n",
            " 20210211_222442.jpg\n",
            " 20210211_222513.jpg\n",
            " 20210211_222534.jpg\n",
            " 20210211_222553.jpg\n",
            " 20210211_222620.jpg\n",
            " 20210211_222643.jpg\n",
            " 20210211_222739.jpg\n",
            " 20210211_222801.jpg\n",
            " 20210211_222820.jpg\n",
            " 20210211_222833.jpg\n",
            " 20210211_222846.jpg\n",
            " 20210211_222912.jpg\n",
            " 20210211_222926.jpg\n",
            " 20210211_224927.jpg\n",
            " 20210221_210719.jpg\n",
            " 20210221_210722.jpg\n",
            " 20210221_210739.jpg\n",
            " 20210221_210740.jpg\n",
            " 20210221_210742.jpg\n",
            " 20210221_210744.jpg\n",
            " 20210221_210755.jpg\n",
            " 20210221_210757.jpg\n",
            " 20210221_210842.jpg\n",
            " 20210221_210849.jpg\n",
            " 20210221_210850.jpg\n",
            " 20210221_210851.jpg\n",
            " 20210221_211114.jpg\n",
            " 20210221_211128.jpg\n",
            " 20210221_211131.jpg\n",
            " 20210224_200342.jpg\n",
            " 20210302_114448.jpg\n",
            " 20210302_114451.jpg\n",
            " 20210302_114640.jpg\n",
            " 20210302_114641.jpg\n",
            " 20210302_114730.jpg\n",
            " 20210306_104234.jpg\n",
            " 20210306_104239.jpg\n",
            " 20210306_104241.jpg\n",
            " 20210306_104243.jpg\n",
            " 20210306_104307.jpg\n",
            " 20210306_104309.jpg\n",
            " 20210306_104312.jpg\n",
            " 20210306_104756.jpg\n",
            " 20210306_104807.jpg\n",
            " 20210309_154614.jpg\n",
            " 20210309_225717.jpg\n",
            " 20210309_225727.jpg\n",
            " 20210310_105008.jpg\n",
            " 20210310_105012.jpg\n",
            " 20210318_115401.jpg\n",
            " 20210318_115413.jpg\n",
            " 20210318_115449.jpg\n",
            " 20210318_115452.jpg\n",
            " 20210322_095702.jpg\n",
            " 20210322_100534.jpg\n",
            " 20210322_100618.jpg\n",
            " 20210322_112359.jpg\n",
            " 20210322_113106.jpg\n",
            " 20210322_113551.jpg\n",
            " 20210322_115940.jpg\n",
            " 20210322_120505.jpg\n",
            " 20210323_095434.jpg\n",
            " 20210323_095716.jpg\n",
            " 20210323_095921.jpg\n",
            " 20210323_095930.jpg\n",
            " 20210323_100216.jpg\n",
            " 20210323_114612.jpg\n",
            " 6wHYz-136_905356652056.jpg\n",
            " 6wHYz-186_905356652056.jpg\n",
            "'‪+90 538 731 30 69‬ ile WhatsApp Sohbeti.txt'\n",
            " belge.pdf\n",
            "'Colab Notebooks'\n",
            "'DEPREME DAYANIKLI YAPI TASARIMI BÜTÜNLEME SINAVI.docx'\n",
            "'Depreme dayanıklı yapı Tasarımı Ferhat Varlı 180308036 .pdf'\n",
            "'Depreme dayanıklı yapı Tasarımı Ferhat Varlı VİZE sınavı .pdf'\n",
            "'Depreme Dayanıklı Yapı Tasarımı Ödevi Ferhat Varlı (1).pdf'\n",
            "'Depreme Dayanıklı Yapı Tasarımı Ödevi Ferhat Varlı.pdf'\n",
            " depreme_dayanikli_yapi_tasarimi_ozgur_sevgin_180308032.pdf\n",
            "'Depreme dayanıklı yapı Tasarımı Özgür sevgin 180308032.pdf'\n",
            " EmirAYDIN-CV_EN.pdf\n",
            "'EmirAYDIN-CV_TR (1).pdf'\n",
            " EmirAYDIN-CV_TR.pdf\n",
            " ezE6y-224_905356652056.jpg\n",
            "'FERHAT VARLI BÜRO STAJI.docx'\n",
            "'FERHAT VARLI DEPREME DAYANIKLI YAPI TASARIM ÖDEVİ.pdf'\n",
            "'ferhat varlı deprem ödevi.docx'\n",
            " IMG-20210212-WA0000.jpg\n",
            " IMG-20210212-WA0001.jpg\n",
            " IMG-20210212-WA0002.jpg\n",
            " IMG-20210215-WA0003.jpg\n",
            " IMG-20210215-WA0006.jpg\n",
            " IMG-20210215-WA0007.jpg\n",
            " IMG-20210217-WA0000.jpg\n",
            " IMG-20210218-WA0002.jpeg\n",
            " IMG-20210218-WA0005.jpeg\n",
            " IMG-20210218-WA0007.jpg\n",
            " IMG-20210221-WA0000.jpg\n",
            " IMG-20210221-WA0001.jpg\n",
            " IMG-20210225-WA0013.jpg\n",
            " IMG-20210225-WA0014.jpg\n",
            " IMG-20210225-WA0015.jpg\n",
            " IMG-20210226-WA0003.jpg\n",
            " IMG-20210228-WA0000.jpg\n",
            " IMG-20210228-WA0001.jpg\n",
            " IMG-20210228-WA0002.jpg\n",
            " IMG-20210228-WA0003.jpg\n",
            " IMG-20210228-WA0004.jpg\n",
            " IMG-20210228-WA0005.jpg\n",
            " IMG-20210301-WA0002.jpg\n",
            " IMG-20210301-WA0003.jpg\n",
            " IMG-20210301-WA0005.jpg\n",
            " IMG-20210301-WA0006.jpg\n",
            " IMG-20210301-WA0008.jpg\n",
            " IMG-20210301-WA0018.jpg\n",
            " IMG-20210301-WA0019.jpg\n",
            " IMG-20210302-WA0001.jpg\n",
            " IMG_20210303_222609_362.jpg\n",
            " IMG-20210305-WA0000.jpg\n",
            " IMG-20210305-WA0001.jpg\n",
            " IMG-20210305-WA0002.jpg\n",
            " IMG-20210305-WA0006.jpg\n",
            " IMG-20210306-WA0002.jpg\n",
            " IMG-20210306-WA0003.jpg\n",
            " IMG-20210308-WA0000.jpg\n",
            " IMG-20210308-WA0001.jpg\n",
            " IMG-20210309-WA0002.jpg\n",
            " IMG-20210309-WA0003.jpg\n",
            " IMG-20210309-WA0009.jpeg\n",
            " IMG_20210310_235721_211.jpg\n",
            " IMG-20210310-WA0000.jpg\n",
            " IMG-20210310-WA0001.jpg\n",
            " IMG-20210310-WA0002.jpg\n",
            " IMG-20210310-WA0003.jpg\n",
            " IMG-20210310-WA0004.jpg\n",
            " IMG-20210310-WA0005.jpg\n",
            " IMG-20210310-WA0006.jpg\n",
            " IMG-20210310-WA0007.jpg\n",
            " IMG-20210310-WA0008.jpg\n",
            " IMG-20210310-WA0009.jpg\n",
            " IMG-20210310-WA0010.jpg\n",
            " IMG-20210310-WA0012.jpg\n",
            " IMG-20210310-WA0013.jpeg\n",
            " IMG-20210310-WA0015.jpg\n",
            " IMG-20210310-WA0016.jpg\n",
            " IMG-20210310-WA0017.jpeg\n",
            " IMG-20210310-WA0019.jpeg\n",
            " IMG-20210310-WA0021.jpg\n",
            " IMG-20210310-WA0022.jpeg\n",
            " IMG-20210311-WA0000.jpg\n",
            " IMG-20210312-WA0000.jpg\n",
            " IMG-20210312-WA0001.jpg\n",
            " IMG-20210312-WA0002.jpg\n",
            " IMG-20210314-WA0000.jpg\n",
            " IMG-20210315-WA0002.jpeg\n",
            " IMG_20210317_011625_838.jpg\n",
            " IMG-20210317-WA0001.jpg\n",
            " IMG-20210317-WA0002.jpg\n",
            " IMG-20210317-WA0003.jpg\n",
            " IMG-20210318-WA0000.jpg\n",
            " IMG-20210318-WA0002.jpeg\n",
            " IMG-20210318-WA0004.jpeg\n",
            " IMG-20210324-WA0004.jpg\n",
            " IMG-20210324-WA0005.jpg\n",
            " IMG-20210325-WA0006.jpg\n",
            " IMG-20210325-WA0007.jpg\n",
            " IMG-20210325-WA0012.jpeg\n",
            " IMG-20210326-WA0001.jpg\n",
            " IMG-20210326-WA0002.jpg\n",
            " IMG-20210326-WA0003.jpg\n",
            " IMG-20210326-WA0004.jpg\n",
            " IMG-20210326-WA0005.jpg\n",
            " IMG-20210328-WA0002.jpg\n",
            " IMG_-dny3h.jpg\n",
            " Kisiler\n",
            "'Mikroişlemci Ödevi'\n",
            " Ödev_Mikro_Emir_AYDIN.rar\n",
            " Screenshot_20210213-193222_Instagram.jpg\n",
            " Screenshot_20210213-221839_Snapchat.jpg\n",
            " Screenshot_20210306-082020_Instagram.jpg\n",
            "'Screenshot_20210309-204244_Garanti BBVA.jpg'\n",
            " Screenshot_20210312-090339_Instagram.jpg\n",
            " Screenshot_20210313-092951_Snapchat.jpg\n",
            " Screenshot_20210314-155246_Instagram.jpg\n",
            " Screenshot_20210314-155303_Instagram.jpg\n",
            " Screenshot_20210314-155333_Instagram.jpg\n",
            " Screenshot_20210314-200257_Facebook.jpg\n",
            " SEMA.pdf\n",
            " Snapchat-1068700037.jpg\n",
            " Snapchat-1178501457.jpg\n",
            " Snapchat-1253827046.jpg\n",
            " Snapchat-1323035931.jpg\n",
            " Snapchat-1525702752.jpg\n",
            " Snapchat-1537480607.jpg\n",
            " Snapchat-1664981095.jpg\n",
            " Snapchat-1982577667.jpg\n",
            " Snapchat-2057670646.jpg\n",
            " Snapchat-2132930103.jpg\n",
            " Snapchat-2146132504.jpg\n",
            " Snapchat-226651823.jpg\n",
            " Snapchat-306309812.mp4\n",
            " Snapchat-530436997.jpg\n",
            " Snapchat-693945630.jpg\n",
            " Snapchat-863991788.jpg\n",
            " Snapchat-867251550.jpg\n",
            " Snapchat-973431410.jpg\n",
            " TEKNOFEST\n",
            "'T__rkiye Deprem Y__netmeli__i (DBYBHY, 2007) Tasar__m __vme Spektrumuna Uygun Ger__ek Deprem Kay__tlar__n__n Se__ilmesi ve __l__eklenmesi[#155259]-136649.pdf'\n",
            " Veri_Madenciligi\n",
            " VID-20210305-WA0004.mp4\n",
            " VID-20210306-WA0011.mp4\n",
            " VID-20210306-WA0012.mp4\n",
            " VID-20210316-WA0000.mp4\n",
            " VID-20210321-WA0000.mp4\n",
            " VID-20210324-WA0000.mp4\n"
          ]
        }
      ]
    },
    {
      "cell_type": "markdown",
      "source": [
        "Veri Seti İndirme\n"
      ],
      "metadata": {
        "id": "Cg0_PUVmO8Dn"
      }
    },
    {
      "cell_type": "code",
      "source": [
        "!wget https://gist.github.com/8836201.git  -P '/content/drive/My Drive/Veri_Madenciligi'"
      ],
      "metadata": {
        "colab": {
          "base_uri": "https://localhost:8080/"
        },
        "id": "bWsegT-CPOBU",
        "outputId": "aac09f0a-0e1e-46b3-aea0-321320e24f17"
      },
      "execution_count": null,
      "outputs": [
        {
          "output_type": "stream",
          "name": "stdout",
          "text": [
            "--2022-12-19 21:56:57--  https://gist.github.com/8836201.git\n",
            "Resolving gist.github.com (gist.github.com)... 140.82.121.3\n",
            "Connecting to gist.github.com (gist.github.com)|140.82.121.3|:443... connected.\n",
            "HTTP request sent, awaiting response... 302 Found\n",
            "Location: https://gist.github.com/netj/8836201.git [following]\n",
            "--2022-12-19 21:56:57--  https://gist.github.com/netj/8836201.git\n",
            "Reusing existing connection to gist.github.com:443.\n",
            "HTTP request sent, awaiting response... 301 Moved Permanently\n",
            "Location: https://gist.github.com/netj/8836201 [following]\n",
            "--2022-12-19 21:56:57--  https://gist.github.com/netj/8836201\n",
            "Reusing existing connection to gist.github.com:443.\n",
            "HTTP request sent, awaiting response... 200 OK\n",
            "Length: unspecified [text/html]\n",
            "Saving to: ‘/content/drive/My Drive/Veri_Madenciligi/8836201.git.6’\n",
            "\n",
            "8836201.git.6           [ <=>                ] 250.95K  --.-KB/s    in 0.03s   \n",
            "\n",
            "2022-12-19 21:56:58 (7.85 MB/s) - ‘/content/drive/My Drive/Veri_Madenciligi/8836201.git.6’ saved [256975]\n",
            "\n"
          ]
        }
      ]
    },
    {
      "cell_type": "markdown",
      "source": [
        "Veri Setini Notebook'Aktarma"
      ],
      "metadata": {
        "id": "bMU_uGo1Td3H"
      }
    },
    {
      "cell_type": "code",
      "source": [
        "import pandas as pd\n",
        "iris=pd.read_csv('/content/drive/My Drive/Veri_Madenciligi/iris.csv')\n",
        "iris.head(150)"
      ],
      "metadata": {
        "colab": {
          "base_uri": "https://localhost:8080/",
          "height": 424
        },
        "id": "eRJj1KKRTnMo",
        "outputId": "a35d55ad-0f81-4672-b9d5-1af0e25a3cd8"
      },
      "execution_count": null,
      "outputs": [
        {
          "output_type": "execute_result",
          "data": {
            "text/plain": [
              "     sepal.length  sepal.width  petal.length  petal.width    variety\n",
              "0             5.1          3.5           1.4          0.2     Setosa\n",
              "1             4.9          3.0           1.4          0.2     Setosa\n",
              "2             4.7          3.2           1.3          0.2     Setosa\n",
              "3             4.6          3.1           1.5          0.2     Setosa\n",
              "4             5.0          3.6           1.4          0.2     Setosa\n",
              "..            ...          ...           ...          ...        ...\n",
              "145           6.7          3.0           5.2          2.3  Virginica\n",
              "146           6.3          2.5           5.0          1.9  Virginica\n",
              "147           6.5          3.0           5.2          2.0  Virginica\n",
              "148           6.2          3.4           5.4          2.3  Virginica\n",
              "149           5.9          3.0           5.1          1.8  Virginica\n",
              "\n",
              "[150 rows x 5 columns]"
            ],
            "text/html": [
              "\n",
              "  <div id=\"df-cea52ce6-ee90-4762-bf9e-4866489790b5\">\n",
              "    <div class=\"colab-df-container\">\n",
              "      <div>\n",
              "<style scoped>\n",
              "    .dataframe tbody tr th:only-of-type {\n",
              "        vertical-align: middle;\n",
              "    }\n",
              "\n",
              "    .dataframe tbody tr th {\n",
              "        vertical-align: top;\n",
              "    }\n",
              "\n",
              "    .dataframe thead th {\n",
              "        text-align: right;\n",
              "    }\n",
              "</style>\n",
              "<table border=\"1\" class=\"dataframe\">\n",
              "  <thead>\n",
              "    <tr style=\"text-align: right;\">\n",
              "      <th></th>\n",
              "      <th>sepal.length</th>\n",
              "      <th>sepal.width</th>\n",
              "      <th>petal.length</th>\n",
              "      <th>petal.width</th>\n",
              "      <th>variety</th>\n",
              "    </tr>\n",
              "  </thead>\n",
              "  <tbody>\n",
              "    <tr>\n",
              "      <th>0</th>\n",
              "      <td>5.1</td>\n",
              "      <td>3.5</td>\n",
              "      <td>1.4</td>\n",
              "      <td>0.2</td>\n",
              "      <td>Setosa</td>\n",
              "    </tr>\n",
              "    <tr>\n",
              "      <th>1</th>\n",
              "      <td>4.9</td>\n",
              "      <td>3.0</td>\n",
              "      <td>1.4</td>\n",
              "      <td>0.2</td>\n",
              "      <td>Setosa</td>\n",
              "    </tr>\n",
              "    <tr>\n",
              "      <th>2</th>\n",
              "      <td>4.7</td>\n",
              "      <td>3.2</td>\n",
              "      <td>1.3</td>\n",
              "      <td>0.2</td>\n",
              "      <td>Setosa</td>\n",
              "    </tr>\n",
              "    <tr>\n",
              "      <th>3</th>\n",
              "      <td>4.6</td>\n",
              "      <td>3.1</td>\n",
              "      <td>1.5</td>\n",
              "      <td>0.2</td>\n",
              "      <td>Setosa</td>\n",
              "    </tr>\n",
              "    <tr>\n",
              "      <th>4</th>\n",
              "      <td>5.0</td>\n",
              "      <td>3.6</td>\n",
              "      <td>1.4</td>\n",
              "      <td>0.2</td>\n",
              "      <td>Setosa</td>\n",
              "    </tr>\n",
              "    <tr>\n",
              "      <th>...</th>\n",
              "      <td>...</td>\n",
              "      <td>...</td>\n",
              "      <td>...</td>\n",
              "      <td>...</td>\n",
              "      <td>...</td>\n",
              "    </tr>\n",
              "    <tr>\n",
              "      <th>145</th>\n",
              "      <td>6.7</td>\n",
              "      <td>3.0</td>\n",
              "      <td>5.2</td>\n",
              "      <td>2.3</td>\n",
              "      <td>Virginica</td>\n",
              "    </tr>\n",
              "    <tr>\n",
              "      <th>146</th>\n",
              "      <td>6.3</td>\n",
              "      <td>2.5</td>\n",
              "      <td>5.0</td>\n",
              "      <td>1.9</td>\n",
              "      <td>Virginica</td>\n",
              "    </tr>\n",
              "    <tr>\n",
              "      <th>147</th>\n",
              "      <td>6.5</td>\n",
              "      <td>3.0</td>\n",
              "      <td>5.2</td>\n",
              "      <td>2.0</td>\n",
              "      <td>Virginica</td>\n",
              "    </tr>\n",
              "    <tr>\n",
              "      <th>148</th>\n",
              "      <td>6.2</td>\n",
              "      <td>3.4</td>\n",
              "      <td>5.4</td>\n",
              "      <td>2.3</td>\n",
              "      <td>Virginica</td>\n",
              "    </tr>\n",
              "    <tr>\n",
              "      <th>149</th>\n",
              "      <td>5.9</td>\n",
              "      <td>3.0</td>\n",
              "      <td>5.1</td>\n",
              "      <td>1.8</td>\n",
              "      <td>Virginica</td>\n",
              "    </tr>\n",
              "  </tbody>\n",
              "</table>\n",
              "<p>150 rows × 5 columns</p>\n",
              "</div>\n",
              "      <button class=\"colab-df-convert\" onclick=\"convertToInteractive('df-cea52ce6-ee90-4762-bf9e-4866489790b5')\"\n",
              "              title=\"Convert this dataframe to an interactive table.\"\n",
              "              style=\"display:none;\">\n",
              "        \n",
              "  <svg xmlns=\"http://www.w3.org/2000/svg\" height=\"24px\"viewBox=\"0 0 24 24\"\n",
              "       width=\"24px\">\n",
              "    <path d=\"M0 0h24v24H0V0z\" fill=\"none\"/>\n",
              "    <path d=\"M18.56 5.44l.94 2.06.94-2.06 2.06-.94-2.06-.94-.94-2.06-.94 2.06-2.06.94zm-11 1L8.5 8.5l.94-2.06 2.06-.94-2.06-.94L8.5 2.5l-.94 2.06-2.06.94zm10 10l.94 2.06.94-2.06 2.06-.94-2.06-.94-.94-2.06-.94 2.06-2.06.94z\"/><path d=\"M17.41 7.96l-1.37-1.37c-.4-.4-.92-.59-1.43-.59-.52 0-1.04.2-1.43.59L10.3 9.45l-7.72 7.72c-.78.78-.78 2.05 0 2.83L4 21.41c.39.39.9.59 1.41.59.51 0 1.02-.2 1.41-.59l7.78-7.78 2.81-2.81c.8-.78.8-2.07 0-2.86zM5.41 20L4 18.59l7.72-7.72 1.47 1.35L5.41 20z\"/>\n",
              "  </svg>\n",
              "      </button>\n",
              "      \n",
              "  <style>\n",
              "    .colab-df-container {\n",
              "      display:flex;\n",
              "      flex-wrap:wrap;\n",
              "      gap: 12px;\n",
              "    }\n",
              "\n",
              "    .colab-df-convert {\n",
              "      background-color: #E8F0FE;\n",
              "      border: none;\n",
              "      border-radius: 50%;\n",
              "      cursor: pointer;\n",
              "      display: none;\n",
              "      fill: #1967D2;\n",
              "      height: 32px;\n",
              "      padding: 0 0 0 0;\n",
              "      width: 32px;\n",
              "    }\n",
              "\n",
              "    .colab-df-convert:hover {\n",
              "      background-color: #E2EBFA;\n",
              "      box-shadow: 0px 1px 2px rgba(60, 64, 67, 0.3), 0px 1px 3px 1px rgba(60, 64, 67, 0.15);\n",
              "      fill: #174EA6;\n",
              "    }\n",
              "\n",
              "    [theme=dark] .colab-df-convert {\n",
              "      background-color: #3B4455;\n",
              "      fill: #D2E3FC;\n",
              "    }\n",
              "\n",
              "    [theme=dark] .colab-df-convert:hover {\n",
              "      background-color: #434B5C;\n",
              "      box-shadow: 0px 1px 3px 1px rgba(0, 0, 0, 0.15);\n",
              "      filter: drop-shadow(0px 1px 2px rgba(0, 0, 0, 0.3));\n",
              "      fill: #FFFFFF;\n",
              "    }\n",
              "  </style>\n",
              "\n",
              "      <script>\n",
              "        const buttonEl =\n",
              "          document.querySelector('#df-cea52ce6-ee90-4762-bf9e-4866489790b5 button.colab-df-convert');\n",
              "        buttonEl.style.display =\n",
              "          google.colab.kernel.accessAllowed ? 'block' : 'none';\n",
              "\n",
              "        async function convertToInteractive(key) {\n",
              "          const element = document.querySelector('#df-cea52ce6-ee90-4762-bf9e-4866489790b5');\n",
              "          const dataTable =\n",
              "            await google.colab.kernel.invokeFunction('convertToInteractive',\n",
              "                                                     [key], {});\n",
              "          if (!dataTable) return;\n",
              "\n",
              "          const docLinkHtml = 'Like what you see? Visit the ' +\n",
              "            '<a target=\"_blank\" href=https://colab.research.google.com/notebooks/data_table.ipynb>data table notebook</a>'\n",
              "            + ' to learn more about interactive tables.';\n",
              "          element.innerHTML = '';\n",
              "          dataTable['output_type'] = 'display_data';\n",
              "          await google.colab.output.renderOutput(dataTable, element);\n",
              "          const docLink = document.createElement('div');\n",
              "          docLink.innerHTML = docLinkHtml;\n",
              "          element.appendChild(docLink);\n",
              "        }\n",
              "      </script>\n",
              "    </div>\n",
              "  </div>\n",
              "  "
            ]
          },
          "metadata": {},
          "execution_count": 144
        }
      ]
    },
    {
      "cell_type": "markdown",
      "source": [
        "Libraries "
      ],
      "metadata": {
        "id": "28edwD-WLuCu"
      }
    },
    {
      "cell_type": "code",
      "source": [
        "!pip install matplotlib-venn"
      ],
      "metadata": {
        "colab": {
          "base_uri": "https://localhost:8080/"
        },
        "id": "azMMiuIb5Bqf",
        "outputId": "093ae6f4-76e4-4ce0-aa21-9b84a1b8a920"
      },
      "execution_count": null,
      "outputs": [
        {
          "output_type": "stream",
          "name": "stdout",
          "text": [
            "Looking in indexes: https://pypi.org/simple, https://us-python.pkg.dev/colab-wheels/public/simple/\n",
            "Requirement already satisfied: matplotlib-venn in /usr/local/lib/python3.8/dist-packages (0.11.7)\n",
            "Requirement already satisfied: numpy in /usr/local/lib/python3.8/dist-packages (from matplotlib-venn) (1.21.6)\n",
            "Requirement already satisfied: scipy in /usr/local/lib/python3.8/dist-packages (from matplotlib-venn) (1.7.3)\n",
            "Requirement already satisfied: matplotlib in /usr/local/lib/python3.8/dist-packages (from matplotlib-venn) (3.2.2)\n",
            "Requirement already satisfied: python-dateutil>=2.1 in /usr/local/lib/python3.8/dist-packages (from matplotlib->matplotlib-venn) (2.8.2)\n",
            "Requirement already satisfied: pyparsing!=2.0.4,!=2.1.2,!=2.1.6,>=2.0.1 in /usr/local/lib/python3.8/dist-packages (from matplotlib->matplotlib-venn) (3.0.9)\n",
            "Requirement already satisfied: kiwisolver>=1.0.1 in /usr/local/lib/python3.8/dist-packages (from matplotlib->matplotlib-venn) (1.4.4)\n",
            "Requirement already satisfied: cycler>=0.10 in /usr/local/lib/python3.8/dist-packages (from matplotlib->matplotlib-venn) (0.11.0)\n",
            "Requirement already satisfied: six>=1.5 in /usr/local/lib/python3.8/dist-packages (from python-dateutil>=2.1->matplotlib->matplotlib-venn) (1.15.0)\n"
          ]
        }
      ]
    },
    {
      "cell_type": "code",
      "source": [
        "!apt-get -qq install -y libfluidsynth1"
      ],
      "metadata": {
        "id": "D2WWr4ZI5JH4"
      },
      "execution_count": null,
      "outputs": []
    },
    {
      "cell_type": "code",
      "source": [
        "# https://pypi.python.org/pypi/libarchive\n",
        "!apt-get -qq install -y libarchive-dev && pip install -U libarchive\n",
        "import libarchive"
      ],
      "metadata": {
        "colab": {
          "base_uri": "https://localhost:8080/"
        },
        "id": "El9UTXmW5OiO",
        "outputId": "ae73b808-ac3c-45f3-e8f3-21c46e3c80b9"
      },
      "execution_count": null,
      "outputs": [
        {
          "output_type": "stream",
          "name": "stdout",
          "text": [
            "Looking in indexes: https://pypi.org/simple, https://us-python.pkg.dev/colab-wheels/public/simple/\n",
            "Requirement already satisfied: libarchive in /usr/local/lib/python3.8/dist-packages (0.4.7)\n",
            "Requirement already satisfied: nose in /usr/local/lib/python3.8/dist-packages (from libarchive) (1.3.7)\n"
          ]
        }
      ]
    },
    {
      "cell_type": "code",
      "source": [
        "# https://pypi.python.org/pypi/pydot\n",
        "!apt-get -qq install -y graphviz && pip install pydot\n",
        "import pydot"
      ],
      "metadata": {
        "colab": {
          "base_uri": "https://localhost:8080/"
        },
        "id": "NQGGY-en5VR3",
        "outputId": "25a4870b-b289-47c3-8a28-395e3727e7b3"
      },
      "execution_count": null,
      "outputs": [
        {
          "output_type": "stream",
          "name": "stdout",
          "text": [
            "Looking in indexes: https://pypi.org/simple, https://us-python.pkg.dev/colab-wheels/public/simple/\n",
            "Requirement already satisfied: pydot in /usr/local/lib/python3.8/dist-packages (1.3.0)\n",
            "Requirement already satisfied: pyparsing>=2.1.4 in /usr/local/lib/python3.8/dist-packages (from pydot) (3.0.9)\n"
          ]
        }
      ]
    },
    {
      "cell_type": "code",
      "source": [
        "from sklearn import datasets\n",
        "import pandas as pd\n",
        "import math\n",
        "import numpy as np\n"
      ],
      "metadata": {
        "id": "hm05Xvt2SMKY"
      },
      "execution_count": null,
      "outputs": []
    },
    {
      "cell_type": "markdown",
      "source": [
        "İris Veri Setini 'sklearn'den yükleme\n"
      ],
      "metadata": {
        "id": "GbrQawRbX29D"
      }
    },
    {
      "cell_type": "code",
      "source": [
        "from sklearn.datasets import load_iris\n",
        "iris=load_iris()"
      ],
      "metadata": {
        "id": "TdoIj6-lX96_"
      },
      "execution_count": null,
      "outputs": []
    },
    {
      "cell_type": "code",
      "source": [
        "x=iris.data\n",
        "y=iris.target"
      ],
      "metadata": {
        "id": "EMFXl-OuYhVn"
      },
      "execution_count": null,
      "outputs": []
    },
    {
      "cell_type": "code",
      "source": [
        "xp=pd.DataFrame(x,columns=[\"sepal_length\",\"sepal_width\",\"petal_length\",\"pedal_width\"])\n",
        "\n",
        "yp=pd.DataFrame(y,columns=[\"Class\"])"
      ],
      "metadata": {
        "id": "vo3018bcXgBP"
      },
      "execution_count": null,
      "outputs": []
    },
    {
      "cell_type": "code",
      "source": [
        "from sklearn.cluster import KMeans\n",
        "k_means=KMeans(n_clusters=3, random_state=0) \n",
        "k_means.fit(x)\n",
        "y_pred=k_means.predict(x)"
      ],
      "metadata": {
        "id": "f_9HhfOQbM51"
      },
      "execution_count": null,
      "outputs": []
    },
    {
      "cell_type": "code",
      "source": [
        "import matplotlib.pyplot as plt\n",
        "plt.scatter(x[:,0],x[:,1],c=y_pred)\n",
        "plt.xlabel('Sepal Uzunluğu')\n",
        "plt.ylabel('Sepal Genişliği')\n",
        "plt.show()"
      ],
      "metadata": {
        "colab": {
          "base_uri": "https://localhost:8080/",
          "height": 282
        },
        "id": "Q2_Jrp2qb6v_",
        "outputId": "97160cef-6cb8-41f0-a2da-9bd3d5953952"
      },
      "execution_count": null,
      "outputs": [
        {
          "output_type": "display_data",
          "data": {
            "text/plain": [
              "<Figure size 432x288 with 1 Axes>"
            ],
            "image/png": "[encoded data removed]"
          },
          "metadata": {
            "needs_background": "light"
          }
        }
      ]
    },
    {
      "cell_type": "code",
      "source": [
        "iris.keys()"
      ],
      "metadata": {
        "colab": {
          "base_uri": "https://localhost:8080/"
        },
        "id": "k6nOmT6ylycn",
        "outputId": "5aa6add5-4bb0-4295-e104-36dbe5394d07"
      },
      "execution_count": null,
      "outputs": [
        {
          "output_type": "execute_result",
          "data": {
            "text/plain": [
              "dict_keys(['data', 'target', 'frame', 'target_names', 'DESCR', 'feature_names', 'filename', 'data_module'])"
            ]
          },
          "metadata": {},
          "execution_count": 156
        }
      ]
    },
    {
      "cell_type": "code",
      "source": [
        "print(iris['DESCR'])"
      ],
      "metadata": {
        "colab": {
          "base_uri": "https://localhost:8080/"
        },
        "id": "QCbxNKP8l9T6",
        "outputId": "3f673dd2-0547-4922-e368-c629a24bcd5d"
      },
      "execution_count": null,
      "outputs": [
        {
          "output_type": "stream",
          "name": "stdout",
          "text": [
            ".. _iris_dataset:\n",
            "\n",
            "Iris plants dataset\n",
            "--------------------\n",
            "\n",
            "**Data Set Characteristics:**\n",
            "\n",
            "    :Number of Instances: 150 (50 in each of three classes)\n",
            "    :Number of Attributes: 4 numeric, predictive attributes and the class\n",
            "    :Attribute Information:\n",
            "        - sepal length in cm\n",
            "        - sepal width in cm\n",
            "        - petal length in cm\n",
            "        - petal width in cm\n",
            "        - class:\n",
            "                - Iris-Setosa\n",
            "                - Iris-Versicolour\n",
            "                - Iris-Virginica\n",
            "                \n",
            "    :Summary Statistics:\n",
            "\n",
            "    ============== ==== ==== ======= ===== ====================\n",
            "                    Min  Max   Mean    SD   Class Correlation\n",
            "    ============== ==== ==== ======= ===== ====================\n",
            "    sepal length:   4.3  7.9   5.84   0.83    0.7826\n",
            "    sepal width:    2.0  4.4   3.05   0.43   -0.4194\n",
            "    petal length:   1.0  6.9   3.76   1.76    0.9490  (high!)\n",
            "    petal width:    0.1  2.5   1.20   0.76    0.9565  (high!)\n",
            "    ============== ==== ==== ======= ===== ====================\n",
            "\n",
            "    :Missing Attribute Values: None\n",
            "    :Class Distribution: 33.3% for each of 3 classes.\n",
            "    :Creator: R.A. Fisher\n",
            "    :Donor: Michael Marshall (MARSHALL%PLU@io.arc.nasa.gov)\n",
            "    :Date: July, 1988\n",
            "\n",
            "The famous Iris database, first used by Sir R.A. Fisher. The dataset is taken\n",
            "from Fisher's paper. Note that it's the same as in R, but not as in the UCI\n",
            "Machine Learning Repository, which has two wrong data points.\n",
            "\n",
            "This is perhaps the best known database to be found in the\n",
            "pattern recognition literature.  Fisher's paper is a classic in the field and\n",
            "is referenced frequently to this day.  (See Duda & Hart, for example.)  The\n",
            "data set contains 3 classes of 50 instances each, where each class refers to a\n",
            "type of iris plant.  One class is linearly separable from the other 2; the\n",
            "latter are NOT linearly separable from each other.\n",
            "\n",
            ".. topic:: References\n",
            "\n",
            "   - Fisher, R.A. \"The use of multiple measurements in taxonomic problems\"\n",
            "     Annual Eugenics, 7, Part II, 179-188 (1936); also in \"Contributions to\n",
            "     Mathematical Statistics\" (John Wiley, NY, 1950).\n",
            "   - Duda, R.O., & Hart, P.E. (1973) Pattern Classification and Scene Analysis.\n",
            "     (Q327.D83) John Wiley & Sons.  ISBN 0-471-22361-1.  See page 218.\n",
            "   - Dasarathy, B.V. (1980) \"Nosing Around the Neighborhood: A New System\n",
            "     Structure and Classification Rule for Recognition in Partially Exposed\n",
            "     Environments\".  IEEE Transactions on Pattern Analysis and Machine\n",
            "     Intelligence, Vol. PAMI-2, No. 1, 67-71.\n",
            "   - Gates, G.W. (1972) \"The Reduced Nearest Neighbor Rule\".  IEEE Transactions\n",
            "     on Information Theory, May 1972, 431-433.\n",
            "   - See also: 1988 MLC Proceedings, 54-64.  Cheeseman et al\"s AUTOCLASS II\n",
            "     conceptual clustering system finds 3 classes in the data.\n",
            "   - Many, many more ...\n"
          ]
        }
      ]
    },
    {
      "cell_type": "code",
      "source": [
        "import pandas as pd\n",
        "\n",
        "data = {'sepal.length':[5.1, 4.9, 4.7, 4.6, 5, 5.4, 4.6, 5, 4.4, 4.9, 5.4, 4.8,\n",
        "                        4.8, 4.3, 5.8, 5.7, 5.4, 5.1, 5.7, 5.1, 5.4, 5.1, 4.6, \n",
        "                        5.1, 4.8, 5, 5, 5.2, 5.2, 4.7, 4.8, 5.4, 5.2, 5.5, 4.9,\n",
        "                        5, 5.5, 4.9, 4.4, 5.1, 5, 4.5, 4.4, 5, 5.1, 4.8, 5.1, \n",
        "                        4.6, 5.3, 5, 7, 6.4, 6.9, 5.5, 6.5, 5.7, 6.3, 4.9, 6.6, \n",
        "                        5.2, 5, 5.9, 6, 6.1, 5.6, 6.7, 5.6, 5.8, 6.2, 5.6, 5.9, \n",
        "                        6.1, 6.3, 6.1, 6.4, 6.6, 6.8, 6.7, 6, 5.7, 5.5, 5.5, \n",
        "                        5.8, 6, 5.4, 6, 6.7, 6.3, 5.6, 5.5, 5.5, 6.1, 5.8, 5, \n",
        "                        5.6, 5.7, 5.7, 6.2, 5.1, 5.7, 6.3, 5.8, 7.1, 6.3, 6.5, \n",
        "                        7.6, 4.9, 7.3, 6.7, 7.2, 6.5, 6.4, 6.8, 5.7, 5.8, 6.4, \n",
        "                        6.5, 7.7, 7.7, 6, 6.9, 5.6, 7.7, 6.3, 6.7, 7.2, 6.2, \n",
        "                        6.1, 6.4, 7.2, 7.4, 7.9, 6.4, 6.3, 6.1, 7.7, 6.3, 6.4, \n",
        "                        6, 6.9, 6.7, 6.9, 5.8, 6.8, 6.7, 6.7, 6.3, 6.5, 6.2, 5.9,],\n",
        "        'sepal.width':[3.5, 3, 3.2, 3.1, 3.6, 3.9, 3.4, 3.4, 2.9, 3.1, 3.7, 3.4,\n",
        "                       3, 3, 4, 4.4, 3.9, 3.5,3.8, 3.8, 3.4, 3.7, 3.6, 3.3, 3.4,\n",
        "                       3, 3.4, 3.5, 3.4, 3.2, 3.1, 3.4, 4.1, 4.2, 3.1, 3.2, 3.5,\n",
        "                       3.6, 3, 3.4, 3.5, 2.3, 3.2, 3.5, 3.8, 3, 3.8, 3.2, 3.7, \n",
        "                       3.3, 3.2, 3.2, 3.1, 2.3, 2.8, 2.8, 3.3, 2.4, 2.9, 2.7, 2,\n",
        "                       3, 2.2, 2.9, 2.9, 3.1, 3, 2.7, 2.2, 2.5, 3.2, 2.8, 2.5, \n",
        "                       2.8, 2.9, 3, 2.8, 3, 2.9, 2.6, 2.4, 2.4, 2.7, 2.7, 3, \n",
        "                       3.4, 3.1, 2.3, 3, 2.5, 2.6, 3, 2.6, 2.3, 2.7, 3, 2.9, 2.9,\n",
        "                       2.5, 2.8, 3.3, 2.7, 3, 2.9, 3, 3, 2.5, 2.9, 2.5, 3.6, 3.2,\n",
        "                       2.7, 3, 2.5, 2.8, 3.2, 3, 3.8, 2.6, 2.2, 3.2, 2.8, 2.8, \n",
        "                       2.7, 3.3, 3.2, 2.8, 3, 2.8, 3, 2.8, 3.8, 2.8, 2.8, 2.6, \n",
        "                       3, 3.4, 3.1, 4.8, 3.1, 3.1, 3.1, 2.7, 3.2, 3.3, 3, 2.5, \n",
        "                       3, 3.4, 3,],\n",
        "        'petal.length':[1.4, 1.4, 1.3, 1.5, 1.4, 1.7, 1.4, 1.5, 1.4, 1.5, 1.5, \n",
        "                        1.6, 1.4, 1.1, 1.2, 1.5, 1.3, 1.4, 1.7, 1.5, 1.7, 1.5, \n",
        "                        1, 1.7, 1.9, 1.6, 1.6, 1.5, 1.4, 1.6, 1.6, 1.5, 1.5, 1.4,\n",
        "                        1.5, 1.2, 1.3, 1.4, 1.3, 1.5, 1.3, 1.3, 1.3, 1.6, 1.9, \n",
        "                        1.4, 1.6, 1.4, 1.5, 1.4, 4.7, 4.5, 4.9, 4, 4.6, 4.5, 4.7,\n",
        "                        3.3, 4.6, 3.9, 3.5, 4.2, 4, 4.7, 3.6, 4.4, 4.5, 4.1, 4.5, \n",
        "                        3.9, 4.8, 4, 4.9, 4.7, 4.3, 4.4, 4.8, 5, 4.5, 3.5, 3.8, \n",
        "                        3.7,3.9, 5.1, 4.5, 4.5, 4.7, 4.4, 4.1, 4, 4.4, 4.6, 4,\n",
        "                        3.3, 4.2, 4.2, 4.2, 4.3, 3, 4.1, 6, 5.1, 5.9, 5.6, 5.8,\n",
        "                        6.6, 4.5, 6.3, 5.8, 6.1, 5.1, 5.3, 5.5,5, 5.1, 5.3, 5.5,\n",
        "                        6.7, 6.9, 5, 5.7, 4.9, 6.7, 4.9, 5.7, 6, 4.8, 4.9, 5.6, \n",
        "                        5.8, 6.1, 6.4, 5.6, 5.1, 5.6, 6.1, 5.6, 5.5, 4.8, 5.4,\n",
        "                        5.6, 5.1, 5.1, 5.9, 5.7, 5.2, 5, 5.2, 5.4, 5.1, ],\n",
        "        'petal.width':[0.2, 0.2, 0.2, 0.2, 0.2, 0.4, 0.3, 0.2, 0.2, 0.1, 0.2,\n",
        "                       0.2, 0.1, 0.1, 0.2, 0.4, 0.4, 0.3, 0.3, 0.3, 0.2, 0.4, \n",
        "                       0.2, 0.5, 0.2, 0.2, 0.4, 0.2, 0.2, 0.2, 0.2, 0.4, 0.1, \n",
        "                       0.2, 0.2, 0.2, 0.2, 0.1, 0.2, 0.2, 0.3, 0.3, 0.2, 0.6, \n",
        "                       0.4, 0.3, 0.2, 0.2, 0.2, 0.2, 1.4, 1.5, 1.5, 1.3, 1.5, \n",
        "                       1.3, 1.6, 1, 1.3, 1.4, 1, 1.5, 1, 1.4, 1.3, 1.4, 1.5, 1,\n",
        "                       1.5, 1.1, 1.8, 1.3, 1.5, 1.2, 1.3, 1.4, 1.4, 1.7, 1.5, 1,\n",
        "                       1.1, 1, 1.2, 1.6, 1.5, 1.6, 1.5, 1.3, 1.3, 1.3, 1.2, 1.4,\n",
        "                       1.2, 1, 1.3, 1.2, 1.3, 1.3, 1.1, 1.3, 2.5, 1.9, 2.1, 1.8,\n",
        "                       2.2, 2.1, 1.7, 1.8, 1.8, 2.5, 2, 1.9, 2.1, 2, 2.4, 2.3, \n",
        "                       1.8, 2.2, 2.3, 1.5, 2.3, 2, 2, 1.8, 2.1, 1.8, 1.8, 1.8, \n",
        "                       2.1, 1.6, 1.9, 2, 2.2, 1.5, 1.4, 2.3, 2.4, 1.8, 1.8, 2.1,\n",
        "                       2.4, 2.3, 1.9, 2.3, 2.5, 2.3, 1.9, 2, 2.3, 1.8, ]}\n",
        "\n",
        "df = pd.DataFrame(data)\n",
        "\n",
        "print(df)"
      ],
      "metadata": {
        "colab": {
          "base_uri": "https://localhost:8080/"
        },
        "id": "JfALfINtnynR",
        "outputId": "438fa0ec-f7bb-4d6a-ea12-36fec2696432"
      },
      "execution_count": null,
      "outputs": [
        {
          "output_type": "stream",
          "name": "stdout",
          "text": [
            "     sepal.length  sepal.width  petal.length  petal.width\n",
            "0             5.1          3.5           1.4          0.2\n",
            "1             4.9          3.0           1.4          0.2\n",
            "2             4.7          3.2           1.3          0.2\n",
            "3             4.6          3.1           1.5          0.2\n",
            "4             5.0          3.6           1.4          0.2\n",
            "..            ...          ...           ...          ...\n",
            "145           6.7          3.0           5.2          2.3\n",
            "146           6.3          2.5           5.0          1.9\n",
            "147           6.5          3.0           5.2          2.0\n",
            "148           6.2          3.4           5.4          2.3\n",
            "149           5.9          3.0           5.1          1.8\n",
            "\n",
            "[150 rows x 4 columns]\n"
          ]
        }
      ]
    },
    {
      "cell_type": "code",
      "source": [
        "from sklearn.preprocessing import MinMaxScaler\n",
        "\n",
        "scaler = MinMaxScaler()\n",
        "\n",
        "normalized_data = scaler.fit_transform(df)\n",
        "\n",
        "print(normalized_data)"
      ],
      "metadata": {
        "colab": {
          "base_uri": "https://localhost:8080/"
        },
        "id": "vYcXyqAXpQdm",
        "outputId": "71d94622-2c4f-4e5d-c39f-022d7d8d3c66"
      },
      "execution_count": null,
      "outputs": [
        {
          "output_type": "stream",
          "name": "stdout",
          "text": [
            "[[0.22222222 0.53571429 0.06779661 0.04166667]\n",
            " [0.16666667 0.35714286 0.06779661 0.04166667]\n",
            " [0.11111111 0.42857143 0.05084746 0.04166667]\n",
            " [0.08333333 0.39285714 0.08474576 0.04166667]\n",
            " [0.19444444 0.57142857 0.06779661 0.04166667]\n",
            " [0.30555556 0.67857143 0.11864407 0.125     ]\n",
            " [0.08333333 0.5        0.06779661 0.08333333]\n",
            " [0.19444444 0.5        0.08474576 0.04166667]\n",
            " [0.02777778 0.32142857 0.06779661 0.04166667]\n",
            " [0.16666667 0.39285714 0.08474576 0.        ]\n",
            " [0.30555556 0.60714286 0.08474576 0.04166667]\n",
            " [0.13888889 0.5        0.10169492 0.04166667]\n",
            " [0.13888889 0.35714286 0.06779661 0.        ]\n",
            " [0.         0.35714286 0.01694915 0.        ]\n",
            " [0.41666667 0.71428571 0.03389831 0.04166667]\n",
            " [0.38888889 0.85714286 0.08474576 0.125     ]\n",
            " [0.30555556 0.67857143 0.05084746 0.125     ]\n",
            " [0.22222222 0.53571429 0.06779661 0.08333333]\n",
            " [0.38888889 0.64285714 0.11864407 0.08333333]\n",
            " [0.22222222 0.64285714 0.08474576 0.08333333]\n",
            " [0.30555556 0.5        0.11864407 0.04166667]\n",
            " [0.22222222 0.60714286 0.08474576 0.125     ]\n",
            " [0.08333333 0.57142857 0.         0.04166667]\n",
            " [0.22222222 0.46428571 0.11864407 0.16666667]\n",
            " [0.13888889 0.5        0.15254237 0.04166667]\n",
            " [0.19444444 0.35714286 0.10169492 0.04166667]\n",
            " [0.19444444 0.5        0.10169492 0.125     ]\n",
            " [0.25       0.53571429 0.08474576 0.04166667]\n",
            " [0.25       0.5        0.06779661 0.04166667]\n",
            " [0.11111111 0.42857143 0.10169492 0.04166667]\n",
            " [0.13888889 0.39285714 0.10169492 0.04166667]\n",
            " [0.30555556 0.5        0.08474576 0.125     ]\n",
            " [0.25       0.75       0.08474576 0.        ]\n",
            " [0.33333333 0.78571429 0.06779661 0.04166667]\n",
            " [0.16666667 0.39285714 0.08474576 0.04166667]\n",
            " [0.19444444 0.42857143 0.03389831 0.04166667]\n",
            " [0.33333333 0.53571429 0.05084746 0.04166667]\n",
            " [0.16666667 0.57142857 0.06779661 0.        ]\n",
            " [0.02777778 0.35714286 0.05084746 0.04166667]\n",
            " [0.22222222 0.5        0.08474576 0.04166667]\n",
            " [0.19444444 0.53571429 0.05084746 0.08333333]\n",
            " [0.05555556 0.10714286 0.05084746 0.08333333]\n",
            " [0.02777778 0.42857143 0.05084746 0.04166667]\n",
            " [0.19444444 0.53571429 0.10169492 0.20833333]\n",
            " [0.22222222 0.64285714 0.15254237 0.125     ]\n",
            " [0.13888889 0.35714286 0.06779661 0.08333333]\n",
            " [0.22222222 0.64285714 0.10169492 0.04166667]\n",
            " [0.08333333 0.42857143 0.06779661 0.04166667]\n",
            " [0.27777778 0.60714286 0.08474576 0.04166667]\n",
            " [0.19444444 0.46428571 0.06779661 0.04166667]\n",
            " [0.75       0.42857143 0.62711864 0.54166667]\n",
            " [0.58333333 0.42857143 0.59322034 0.58333333]\n",
            " [0.72222222 0.39285714 0.66101695 0.58333333]\n",
            " [0.33333333 0.10714286 0.50847458 0.5       ]\n",
            " [0.61111111 0.28571429 0.61016949 0.58333333]\n",
            " [0.38888889 0.28571429 0.59322034 0.5       ]\n",
            " [0.55555556 0.46428571 0.62711864 0.625     ]\n",
            " [0.16666667 0.14285714 0.38983051 0.375     ]\n",
            " [0.63888889 0.32142857 0.61016949 0.5       ]\n",
            " [0.25       0.25       0.49152542 0.54166667]\n",
            " [0.19444444 0.         0.42372881 0.375     ]\n",
            " [0.44444444 0.35714286 0.54237288 0.58333333]\n",
            " [0.47222222 0.07142857 0.50847458 0.375     ]\n",
            " [0.5        0.32142857 0.62711864 0.54166667]\n",
            " [0.36111111 0.32142857 0.44067797 0.5       ]\n",
            " [0.66666667 0.39285714 0.57627119 0.54166667]\n",
            " [0.36111111 0.35714286 0.59322034 0.58333333]\n",
            " [0.41666667 0.25       0.52542373 0.375     ]\n",
            " [0.52777778 0.07142857 0.59322034 0.58333333]\n",
            " [0.36111111 0.17857143 0.49152542 0.41666667]\n",
            " [0.44444444 0.42857143 0.6440678  0.70833333]\n",
            " [0.5        0.28571429 0.50847458 0.5       ]\n",
            " [0.55555556 0.17857143 0.66101695 0.58333333]\n",
            " [0.5        0.28571429 0.62711864 0.45833333]\n",
            " [0.58333333 0.32142857 0.55932203 0.5       ]\n",
            " [0.63888889 0.35714286 0.57627119 0.54166667]\n",
            " [0.69444444 0.28571429 0.6440678  0.54166667]\n",
            " [0.66666667 0.35714286 0.6779661  0.66666667]\n",
            " [0.47222222 0.32142857 0.59322034 0.58333333]\n",
            " [0.38888889 0.21428571 0.42372881 0.375     ]\n",
            " [0.33333333 0.14285714 0.47457627 0.41666667]\n",
            " [0.33333333 0.14285714 0.45762712 0.375     ]\n",
            " [0.41666667 0.25       0.49152542 0.45833333]\n",
            " [0.47222222 0.25       0.69491525 0.625     ]\n",
            " [0.30555556 0.35714286 0.59322034 0.58333333]\n",
            " [0.47222222 0.5        0.59322034 0.625     ]\n",
            " [0.66666667 0.39285714 0.62711864 0.58333333]\n",
            " [0.55555556 0.10714286 0.57627119 0.5       ]\n",
            " [0.36111111 0.35714286 0.52542373 0.5       ]\n",
            " [0.33333333 0.17857143 0.50847458 0.5       ]\n",
            " [0.33333333 0.21428571 0.57627119 0.45833333]\n",
            " [0.5        0.35714286 0.61016949 0.54166667]\n",
            " [0.41666667 0.21428571 0.50847458 0.45833333]\n",
            " [0.19444444 0.10714286 0.38983051 0.375     ]\n",
            " [0.36111111 0.25       0.54237288 0.5       ]\n",
            " [0.38888889 0.35714286 0.54237288 0.45833333]\n",
            " [0.38888889 0.32142857 0.54237288 0.5       ]\n",
            " [0.52777778 0.32142857 0.55932203 0.5       ]\n",
            " [0.22222222 0.17857143 0.33898305 0.41666667]\n",
            " [0.38888889 0.28571429 0.52542373 0.5       ]\n",
            " [0.55555556 0.46428571 0.84745763 1.        ]\n",
            " [0.41666667 0.25       0.69491525 0.75      ]\n",
            " [0.77777778 0.35714286 0.83050847 0.83333333]\n",
            " [0.55555556 0.32142857 0.77966102 0.70833333]\n",
            " [0.61111111 0.35714286 0.81355932 0.875     ]\n",
            " [0.91666667 0.35714286 0.94915254 0.83333333]\n",
            " [0.16666667 0.17857143 0.59322034 0.66666667]\n",
            " [0.83333333 0.32142857 0.89830508 0.70833333]\n",
            " [0.66666667 0.17857143 0.81355932 0.70833333]\n",
            " [0.80555556 0.57142857 0.86440678 1.        ]\n",
            " [0.61111111 0.42857143 0.69491525 0.79166667]\n",
            " [0.58333333 0.25       0.72881356 0.75      ]\n",
            " [0.69444444 0.35714286 0.76271186 0.83333333]\n",
            " [0.38888889 0.17857143 0.6779661  0.79166667]\n",
            " [0.41666667 0.28571429 0.69491525 0.95833333]\n",
            " [0.58333333 0.42857143 0.72881356 0.91666667]\n",
            " [0.61111111 0.35714286 0.76271186 0.70833333]\n",
            " [0.94444444 0.64285714 0.96610169 0.875     ]\n",
            " [0.94444444 0.21428571 1.         0.91666667]\n",
            " [0.47222222 0.07142857 0.6779661  0.58333333]\n",
            " [0.72222222 0.42857143 0.79661017 0.91666667]\n",
            " [0.36111111 0.28571429 0.66101695 0.79166667]\n",
            " [0.94444444 0.28571429 0.96610169 0.79166667]\n",
            " [0.55555556 0.25       0.66101695 0.70833333]\n",
            " [0.66666667 0.46428571 0.79661017 0.83333333]\n",
            " [0.80555556 0.42857143 0.84745763 0.70833333]\n",
            " [0.52777778 0.28571429 0.6440678  0.70833333]\n",
            " [0.5        0.35714286 0.66101695 0.70833333]\n",
            " [0.58333333 0.28571429 0.77966102 0.83333333]\n",
            " [0.80555556 0.35714286 0.81355932 0.625     ]\n",
            " [0.86111111 0.28571429 0.86440678 0.75      ]\n",
            " [1.         0.64285714 0.91525424 0.79166667]\n",
            " [0.58333333 0.28571429 0.77966102 0.875     ]\n",
            " [0.55555556 0.28571429 0.69491525 0.58333333]\n",
            " [0.5        0.21428571 0.77966102 0.54166667]\n",
            " [0.94444444 0.35714286 0.86440678 0.91666667]\n",
            " [0.55555556 0.5        0.77966102 0.95833333]\n",
            " [0.58333333 0.39285714 0.76271186 0.70833333]\n",
            " [0.47222222 1.         0.6440678  0.70833333]\n",
            " [0.72222222 0.39285714 0.74576271 0.83333333]\n",
            " [0.66666667 0.39285714 0.77966102 0.95833333]\n",
            " [0.72222222 0.39285714 0.69491525 0.91666667]\n",
            " [0.41666667 0.25       0.69491525 0.75      ]\n",
            " [0.69444444 0.42857143 0.83050847 0.91666667]\n",
            " [0.66666667 0.46428571 0.79661017 1.        ]\n",
            " [0.66666667 0.35714286 0.71186441 0.91666667]\n",
            " [0.55555556 0.17857143 0.6779661  0.75      ]\n",
            " [0.61111111 0.35714286 0.71186441 0.79166667]\n",
            " [0.52777778 0.5        0.74576271 0.91666667]\n",
            " [0.44444444 0.35714286 0.69491525 0.70833333]]\n"
          ]
        }
      ]
    },
    {
      "cell_type": "code",
      "source": [
        "normalized_df = pd.DataFrame(normalized_data, columns=df.columns)\n",
        "\n",
        "print(normalized_df)"
      ],
      "metadata": {
        "colab": {
          "base_uri": "https://localhost:8080/"
        },
        "id": "gfO04q-dsm1d",
        "outputId": "9c7d8995-363b-4ddb-e341-e4d9cb9094d2"
      },
      "execution_count": null,
      "outputs": [
        {
          "output_type": "stream",
          "name": "stdout",
          "text": [
            "     sepal.length  sepal.width  petal.length  petal.width\n",
            "0        0.222222     0.535714      0.067797     0.041667\n",
            "1        0.166667     0.357143      0.067797     0.041667\n",
            "2        0.111111     0.428571      0.050847     0.041667\n",
            "3        0.083333     0.392857      0.084746     0.041667\n",
            "4        0.194444     0.571429      0.067797     0.041667\n",
            "..            ...          ...           ...          ...\n",
            "145      0.666667     0.357143      0.711864     0.916667\n",
            "146      0.555556     0.178571      0.677966     0.750000\n",
            "147      0.611111     0.357143      0.711864     0.791667\n",
            "148      0.527778     0.500000      0.745763     0.916667\n",
            "149      0.444444     0.357143      0.694915     0.708333\n",
            "\n",
            "[150 rows x 4 columns]\n"
          ]
        }
      ]
    },
    {
      "cell_type": "markdown",
      "source": [
        "Karar Ağaçlarına Göre Sınıflandırma\n",
        "\n"
      ],
      "metadata": {
        "id": "CT0u4LBkwLRw"
      }
    },
    {
      "cell_type": "code",
      "source": [
        "from sklearn import datasets\n",
        "from sklearn.tree import DecisionTreeClassifier\n",
        "\n",
        "\n",
        "iris = datasets.load_iris()\n",
        "X = iris.data\n",
        "y = iris.target\n",
        "\n",
        "clf = DecisionTreeClassifier(criterion='gini')\n",
        "clf.fit(X, y)\n",
        "\n",
        "\n",
        "print(clf.tree_.threshold)"
      ],
      "metadata": {
        "colab": {
          "base_uri": "https://localhost:8080/"
        },
        "id": "m5cjcVrol3Bp",
        "outputId": "3dfa453d-7662-496d-b153-4b9b94332b2a"
      },
      "execution_count": null,
      "outputs": [
        {
          "output_type": "stream",
          "name": "stdout",
          "text": [
            "[ 2.44999999 -2.          1.75        4.95000005  1.65000004 -2.\n",
            " -2.          1.55000001 -2.          6.94999981 -2.         -2.\n",
            "  4.85000014  3.10000002 -2.         -2.         -2.        ]\n"
          ]
        }
      ]
    },
    {
      "cell_type": "code",
      "source": [
        "from sklearn.datasets import load_iris\n",
        "iris = load_iris()\n",
        "print (iris.feature_names)\n",
        "print (iris.target_names)\n",
        "print (iris.data[0])\n",
        "print (iris.target[0])\n",
        "for i in range(len(iris.target)):\n",
        "    print(\"Example %d: label %s, features %s\"% (i, iris.target[i], iris.data[i]))"
      ],
      "metadata": {
        "colab": {
          "base_uri": "https://localhost:8080/"
        },
        "id": "Rf3RiwcdhbXS",
        "outputId": "01184003-dfb7-4aa6-d18f-7ee66ff427b1"
      },
      "execution_count": null,
      "outputs": [
        {
          "output_type": "stream",
          "name": "stdout",
          "text": [
            "['sepal length (cm)', 'sepal width (cm)', 'petal length (cm)', 'petal width (cm)']\n",
            "['setosa' 'versicolor' 'virginica']\n",
            "[5.1 3.5 1.4 0.2]\n",
            "0\n",
            "Example 0: label 0, features [5.1 3.5 1.4 0.2]\n",
            "Example 1: label 0, features [4.9 3.  1.4 0.2]\n",
            "Example 2: label 0, features [4.7 3.2 1.3 0.2]\n",
            "Example 3: label 0, features [4.6 3.1 1.5 0.2]\n",
            "Example 4: label 0, features [5.  3.6 1.4 0.2]\n",
            "Example 5: label 0, features [5.4 3.9 1.7 0.4]\n",
            "Example 6: label 0, features [4.6 3.4 1.4 0.3]\n",
            "Example 7: label 0, features [5.  3.4 1.5 0.2]\n",
            "Example 8: label 0, features [4.4 2.9 1.4 0.2]\n",
            "Example 9: label 0, features [4.9 3.1 1.5 0.1]\n",
            "Example 10: label 0, features [5.4 3.7 1.5 0.2]\n",
            "Example 11: label 0, features [4.8 3.4 1.6 0.2]\n",
            "Example 12: label 0, features [4.8 3.  1.4 0.1]\n",
            "Example 13: label 0, features [4.3 3.  1.1 0.1]\n",
            "Example 14: label 0, features [5.8 4.  1.2 0.2]\n",
            "Example 15: label 0, features [5.7 4.4 1.5 0.4]\n",
            "Example 16: label 0, features [5.4 3.9 1.3 0.4]\n",
            "Example 17: label 0, features [5.1 3.5 1.4 0.3]\n",
            "Example 18: label 0, features [5.7 3.8 1.7 0.3]\n",
            "Example 19: label 0, features [5.1 3.8 1.5 0.3]\n",
            "Example 20: label 0, features [5.4 3.4 1.7 0.2]\n",
            "Example 21: label 0, features [5.1 3.7 1.5 0.4]\n",
            "Example 22: label 0, features [4.6 3.6 1.  0.2]\n",
            "Example 23: label 0, features [5.1 3.3 1.7 0.5]\n",
            "Example 24: label 0, features [4.8 3.4 1.9 0.2]\n",
            "Example 25: label 0, features [5.  3.  1.6 0.2]\n",
            "Example 26: label 0, features [5.  3.4 1.6 0.4]\n",
            "Example 27: label 0, features [5.2 3.5 1.5 0.2]\n",
            "Example 28: label 0, features [5.2 3.4 1.4 0.2]\n",
            "Example 29: label 0, features [4.7 3.2 1.6 0.2]\n",
            "Example 30: label 0, features [4.8 3.1 1.6 0.2]\n",
            "Example 31: label 0, features [5.4 3.4 1.5 0.4]\n",
            "Example 32: label 0, features [5.2 4.1 1.5 0.1]\n",
            "Example 33: label 0, features [5.5 4.2 1.4 0.2]\n",
            "Example 34: label 0, features [4.9 3.1 1.5 0.2]\n",
            "Example 35: label 0, features [5.  3.2 1.2 0.2]\n",
            "Example 36: label 0, features [5.5 3.5 1.3 0.2]\n",
            "Example 37: label 0, features [4.9 3.6 1.4 0.1]\n",
            "Example 38: label 0, features [4.4 3.  1.3 0.2]\n",
            "Example 39: label 0, features [5.1 3.4 1.5 0.2]\n",
            "Example 40: label 0, features [5.  3.5 1.3 0.3]\n",
            "Example 41: label 0, features [4.5 2.3 1.3 0.3]\n",
            "Example 42: label 0, features [4.4 3.2 1.3 0.2]\n",
            "Example 43: label 0, features [5.  3.5 1.6 0.6]\n",
            "Example 44: label 0, features [5.1 3.8 1.9 0.4]\n",
            "Example 45: label 0, features [4.8 3.  1.4 0.3]\n",
            "Example 46: label 0, features [5.1 3.8 1.6 0.2]\n",
            "Example 47: label 0, features [4.6 3.2 1.4 0.2]\n",
            "Example 48: label 0, features [5.3 3.7 1.5 0.2]\n",
            "Example 49: label 0, features [5.  3.3 1.4 0.2]\n",
            "Example 50: label 1, features [7.  3.2 4.7 1.4]\n",
            "Example 51: label 1, features [6.4 3.2 4.5 1.5]\n",
            "Example 52: label 1, features [6.9 3.1 4.9 1.5]\n",
            "Example 53: label 1, features [5.5 2.3 4.  1.3]\n",
            "Example 54: label 1, features [6.5 2.8 4.6 1.5]\n",
            "Example 55: label 1, features [5.7 2.8 4.5 1.3]\n",
            "Example 56: label 1, features [6.3 3.3 4.7 1.6]\n",
            "Example 57: label 1, features [4.9 2.4 3.3 1. ]\n",
            "Example 58: label 1, features [6.6 2.9 4.6 1.3]\n",
            "Example 59: label 1, features [5.2 2.7 3.9 1.4]\n",
            "Example 60: label 1, features [5.  2.  3.5 1. ]\n",
            "Example 61: label 1, features [5.9 3.  4.2 1.5]\n",
            "Example 62: label 1, features [6.  2.2 4.  1. ]\n",
            "Example 63: label 1, features [6.1 2.9 4.7 1.4]\n",
            "Example 64: label 1, features [5.6 2.9 3.6 1.3]\n",
            "Example 65: label 1, features [6.7 3.1 4.4 1.4]\n",
            "Example 66: label 1, features [5.6 3.  4.5 1.5]\n",
            "Example 67: label 1, features [5.8 2.7 4.1 1. ]\n",
            "Example 68: label 1, features [6.2 2.2 4.5 1.5]\n",
            "Example 69: label 1, features [5.6 2.5 3.9 1.1]\n",
            "Example 70: label 1, features [5.9 3.2 4.8 1.8]\n",
            "Example 71: label 1, features [6.1 2.8 4.  1.3]\n",
            "Example 72: label 1, features [6.3 2.5 4.9 1.5]\n",
            "Example 73: label 1, features [6.1 2.8 4.7 1.2]\n",
            "Example 74: label 1, features [6.4 2.9 4.3 1.3]\n",
            "Example 75: label 1, features [6.6 3.  4.4 1.4]\n",
            "Example 76: label 1, features [6.8 2.8 4.8 1.4]\n",
            "Example 77: label 1, features [6.7 3.  5.  1.7]\n",
            "Example 78: label 1, features [6.  2.9 4.5 1.5]\n",
            "Example 79: label 1, features [5.7 2.6 3.5 1. ]\n",
            "Example 80: label 1, features [5.5 2.4 3.8 1.1]\n",
            "Example 81: label 1, features [5.5 2.4 3.7 1. ]\n",
            "Example 82: label 1, features [5.8 2.7 3.9 1.2]\n",
            "Example 83: label 1, features [6.  2.7 5.1 1.6]\n",
            "Example 84: label 1, features [5.4 3.  4.5 1.5]\n",
            "Example 85: label 1, features [6.  3.4 4.5 1.6]\n",
            "Example 86: label 1, features [6.7 3.1 4.7 1.5]\n",
            "Example 87: label 1, features [6.3 2.3 4.4 1.3]\n",
            "Example 88: label 1, features [5.6 3.  4.1 1.3]\n",
            "Example 89: label 1, features [5.5 2.5 4.  1.3]\n",
            "Example 90: label 1, features [5.5 2.6 4.4 1.2]\n",
            "Example 91: label 1, features [6.1 3.  4.6 1.4]\n",
            "Example 92: label 1, features [5.8 2.6 4.  1.2]\n",
            "Example 93: label 1, features [5.  2.3 3.3 1. ]\n",
            "Example 94: label 1, features [5.6 2.7 4.2 1.3]\n",
            "Example 95: label 1, features [5.7 3.  4.2 1.2]\n",
            "Example 96: label 1, features [5.7 2.9 4.2 1.3]\n",
            "Example 97: label 1, features [6.2 2.9 4.3 1.3]\n",
            "Example 98: label 1, features [5.1 2.5 3.  1.1]\n",
            "Example 99: label 1, features [5.7 2.8 4.1 1.3]\n",
            "Example 100: label 2, features [6.3 3.3 6.  2.5]\n",
            "Example 101: label 2, features [5.8 2.7 5.1 1.9]\n",
            "Example 102: label 2, features [7.1 3.  5.9 2.1]\n",
            "Example 103: label 2, features [6.3 2.9 5.6 1.8]\n",
            "Example 104: label 2, features [6.5 3.  5.8 2.2]\n",
            "Example 105: label 2, features [7.6 3.  6.6 2.1]\n",
            "Example 106: label 2, features [4.9 2.5 4.5 1.7]\n",
            "Example 107: label 2, features [7.3 2.9 6.3 1.8]\n",
            "Example 108: label 2, features [6.7 2.5 5.8 1.8]\n",
            "Example 109: label 2, features [7.2 3.6 6.1 2.5]\n",
            "Example 110: label 2, features [6.5 3.2 5.1 2. ]\n",
            "Example 111: label 2, features [6.4 2.7 5.3 1.9]\n",
            "Example 112: label 2, features [6.8 3.  5.5 2.1]\n",
            "Example 113: label 2, features [5.7 2.5 5.  2. ]\n",
            "Example 114: label 2, features [5.8 2.8 5.1 2.4]\n",
            "Example 115: label 2, features [6.4 3.2 5.3 2.3]\n",
            "Example 116: label 2, features [6.5 3.  5.5 1.8]\n",
            "Example 117: label 2, features [7.7 3.8 6.7 2.2]\n",
            "Example 118: label 2, features [7.7 2.6 6.9 2.3]\n",
            "Example 119: label 2, features [6.  2.2 5.  1.5]\n",
            "Example 120: label 2, features [6.9 3.2 5.7 2.3]\n",
            "Example 121: label 2, features [5.6 2.8 4.9 2. ]\n",
            "Example 122: label 2, features [7.7 2.8 6.7 2. ]\n",
            "Example 123: label 2, features [6.3 2.7 4.9 1.8]\n",
            "Example 124: label 2, features [6.7 3.3 5.7 2.1]\n",
            "Example 125: label 2, features [7.2 3.2 6.  1.8]\n",
            "Example 126: label 2, features [6.2 2.8 4.8 1.8]\n",
            "Example 127: label 2, features [6.1 3.  4.9 1.8]\n",
            "Example 128: label 2, features [6.4 2.8 5.6 2.1]\n",
            "Example 129: label 2, features [7.2 3.  5.8 1.6]\n",
            "Example 130: label 2, features [7.4 2.8 6.1 1.9]\n",
            "Example 131: label 2, features [7.9 3.8 6.4 2. ]\n",
            "Example 132: label 2, features [6.4 2.8 5.6 2.2]\n",
            "Example 133: label 2, features [6.3 2.8 5.1 1.5]\n",
            "Example 134: label 2, features [6.1 2.6 5.6 1.4]\n",
            "Example 135: label 2, features [7.7 3.  6.1 2.3]\n",
            "Example 136: label 2, features [6.3 3.4 5.6 2.4]\n",
            "Example 137: label 2, features [6.4 3.1 5.5 1.8]\n",
            "Example 138: label 2, features [6.  3.  4.8 1.8]\n",
            "Example 139: label 2, features [6.9 3.1 5.4 2.1]\n",
            "Example 140: label 2, features [6.7 3.1 5.6 2.4]\n",
            "Example 141: label 2, features [6.9 3.1 5.1 2.3]\n",
            "Example 142: label 2, features [5.8 2.7 5.1 1.9]\n",
            "Example 143: label 2, features [6.8 3.2 5.9 2.3]\n",
            "Example 144: label 2, features [6.7 3.3 5.7 2.5]\n",
            "Example 145: label 2, features [6.7 3.  5.2 2.3]\n",
            "Example 146: label 2, features [6.3 2.5 5.  1.9]\n",
            "Example 147: label 2, features [6.5 3.  5.2 2. ]\n",
            "Example 148: label 2, features [6.2 3.4 5.4 2.3]\n",
            "Example 149: label 2, features [5.9 3.  5.1 1.8]\n"
          ]
        }
      ]
    },
    {
      "cell_type": "code",
      "source": [
        "import numpy as np\n",
        "from sklearn.datasets import load_iris\n",
        "from sklearn import tree\n",
        "iris = load_iris()\n",
        "test_idx =[0,50,100]\n",
        "\n",
        "# training data\n",
        "train_target = np.delete(iris.target, test_idx)\n",
        "train_data = np.delete(iris.data, test_idx, axis=0)\n",
        "\n",
        "#testing data\n",
        "test_target = iris.target[test_idx]\n",
        "test_data = iris.data[test_idx]\n",
        "\n",
        "clf = tree.DecisionTreeClassifier()\n",
        "clf.fit(train_data, train_target)\n",
        "\n",
        "print (test_target)\n",
        "print (clf.predict(test_data))\n",
        "\n",
        "#viz code\n",
        "from six import StringIO\n",
        "import pydotplus\n",
        "dot_data = StringIO()\n",
        "tree.export_graphviz(clf,\n",
        "                     out_file=dot_data,\n",
        "                     feature_names=iris.feature_names,\n",
        "                     class_names=iris.target_names,\n",
        "                     filled=True,\n",
        "                     rounded=True,\n",
        "                     impurity=False)\n",
        "\n",
        "graph = pydotplus.graph_from_dot_data(dot_data.getvalue())\n",
        "graph.write_pdf(\"iris.pdf\")\n",
        "\n",
        "print(test_data[0],test_target[0])\n",
        "print(test_data[1],test_target[1])\n",
        "print(test_data[2],test_target[2])\n",
        "print(iris.feature_names, iris.target_names)"
      ],
      "metadata": {
        "colab": {
          "base_uri": "https://localhost:8080/"
        },
        "id": "LGxZg40c9_Bx",
        "outputId": "1c061961-8047-4ff7-bbde-58fb3c72e900"
      },
      "execution_count": null,
      "outputs": [
        {
          "output_type": "stream",
          "name": "stdout",
          "text": [
            "[0 1 2]\n",
            "[0 1 2]\n",
            "[5.1 3.5 1.4 0.2] 0\n",
            "[7.  3.2 4.7 1.4] 1\n",
            "[6.3 3.3 6.  2.5] 2\n",
            "['sepal length (cm)', 'sepal width (cm)', 'petal length (cm)', 'petal width (cm)'] ['setosa' 'versicolor' 'virginica']\n"
          ]
        }
      ]
    },
    {
      "cell_type": "markdown",
      "source": [
        "Entropi Ve Information Gain\n"
      ],
      "metadata": {
        "id": "ukKBGlG6K3QD"
      }
    },
    {
      "cell_type": "code",
      "source": [
        "from sklearn.datasets import load_iris\n",
        "iris_dataset = load_iris()\n",
        "\n",
        "\n",
        "x = xp.iloc[:, :-1] # select all rows, all columns except the last one\n",
        "y = yp.iloc[:, -1] # select all rows, last column only"
      ],
      "metadata": {
        "id": "oFucWAjjKWBf"
      },
      "execution_count": null,
      "outputs": []
    },
    {
      "cell_type": "code",
      "source": [
        "import math\n",
        "\n",
        "def entropy(y):\n",
        "    counts = y.value_counts()\n",
        "    entropy = 0\n",
        "    for count in counts:\n",
        "        p = count / len(y)\n",
        "        entropy -= p * math.log(p, 2)\n",
        "    return entropy\n",
        "\n"
      ],
      "metadata": {
        "id": "MIVgi-q3JZ6O"
      },
      "execution_count": null,
      "outputs": []
    },
    {
      "cell_type": "code",
      "source": [
        "def information_gain(x, y, feature):\n",
        "    entropy_y = entropy(y)\n",
        "    values = xp[feature].unique()\n",
        "    entropy_feature = 0\n",
        "    for value in values:\n",
        "        sub_y = y[xp[feature] == value]\n",
        "        p = len(sub_y) / len(y)\n",
        "        entropy_feature += p * entropy(sub_y)\n",
        "    return entropy_y - entropy_feature\n",
        "\n",
        "best_feature = None\n",
        "best_gain = 0\n",
        "\n",
        "for feature in xp.columns:\n",
        "    gain = information_gain(x, y, feature)\n",
        "    if gain > best_gain:\n",
        "        best_gain = gain\n",
        "        best_feature = feature\n",
        "\n",
        "print(f'En iyi bölen nitelik: {best_feature}')"
      ],
      "metadata": {
        "colab": {
          "base_uri": "https://localhost:8080/"
        },
        "id": "QLAjALkhJmGP",
        "outputId": "e4284927-ca6e-4cc5-ee0a-d3da6f4fbdfc"
      },
      "execution_count": null,
      "outputs": [
        {
          "output_type": "stream",
          "name": "stdout",
          "text": [
            "En iyi bölen nitelik: petal_length\n"
          ]
        }
      ]
    }
  ]
}