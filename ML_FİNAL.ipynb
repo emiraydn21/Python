{
  "nbformat": 4,
  "nbformat_minor": 0,
  "metadata": {
    "colab": {
      "provenance": [],
      "authorship_tag": "ABX9TyMXo/S8fKJYOd9Qj+/Qnokh",
      "include_colab_link": true
    },
    "kernelspec": {
      "name": "python3",
      "display_name": "Python 3"
    },
    "language_info": {
      "name": "python"
    }
  },
  "cells": [
    {
      "cell_type": "markdown",
      "metadata": {
        "id": "view-in-github",
        "colab_type": "text"
      },
      "source": [
        "<a href=\"https://colab.research.google.com/github/emiraydn21/Python/blob/main/ML_F%C4%B0NAL.ipynb\" target=\"_parent\"><img src=\"https://colab.research.google.com/assets/colab-badge.svg\" alt=\"Open In Colab\"/></a>"
      ]
    },
    {
      "cell_type": "markdown",
      "source": [
        "**1.ADIM: Gerekli kütüphaneleri yükleyip içe aktaralım**\n"
      ],
      "metadata": {
        "id": "qo-mok6iM0Wc"
      }
    },
    {
      "cell_type": "code",
      "execution_count": 102,
      "metadata": {
        "id": "8UDz1G_YMttV"
      },
      "outputs": [],
      "source": [
        "import pandas as pd  # Veri işleme ve analiz için kullanılır\n",
        "import numpy as np  # Matematiksel işlemler ve dizi manipülasyonu için kullanılır\n",
        "from sklearn.model_selection import StratifiedKFold  # Çapraz doğrulama için\n",
        "from sklearn.preprocessing import StandardScaler  # Veriyi ölçeklendirmek için\n",
        "from sklearn.metrics import accuracy_score, precision_score, recall_score, f1_score  # Performans metrikleri\n",
        "import tensorflow as tf  # Yapay sinir ağları için TensorFlow kütüphanesi"
      ]
    },
    {
      "cell_type": "markdown",
      "source": [
        "**2.ADIM: Veri yükleme**\n"
      ],
      "metadata": {
        "id": "vJ3Ckmn5jDH5"
      }
    },
    {
      "cell_type": "code",
      "source": [
        "data = pd.read_csv('/content/diabetes_dataset.csv')  # CSV dosyasını okuma"
      ],
      "metadata": {
        "id": "ZT0_p5OOi_7z"
      },
      "execution_count": 103,
      "outputs": []
    },
    {
      "cell_type": "markdown",
      "source": [
        "**3.ADIM: Özellikler (X) ve hedef değişkeni (y) ayırma**\n",
        "\n",
        "\n"
      ],
      "metadata": {
        "id": "bm6sF-m3jOdp"
      }
    },
    {
      "cell_type": "code",
      "source": [
        "X = data.iloc[:, :-1].values  # Son sütun dışındaki sütunlar giriş özellikleridir\n",
        "y = data.iloc[:, -1].values   # Son sütun hedef değişkeni temsil eder (Outcome)"
      ],
      "metadata": {
        "id": "dvOqCvybjWBP"
      },
      "execution_count": 104,
      "outputs": []
    },
    {
      "cell_type": "markdown",
      "source": [
        "**4.ADIM: Özellikleri standardize etme**"
      ],
      "metadata": {
        "id": "WHcEC3xzjUoV"
      }
    },
    {
      "cell_type": "code",
      "source": [
        "scaler = StandardScaler()  # StandardScaler sınıfından bir nesne oluştur\n",
        "X_scaled = scaler.fit_transform(X)  # Veriyi ortalaması 0 ve standart sapması 1 olacak şekilde ölçeklendir"
      ],
      "metadata": {
        "id": "xVla7P8UjaJR"
      },
      "execution_count": 105,
      "outputs": []
    },
    {
      "cell_type": "markdown",
      "source": [
        "**5.ADIM: Çapraz doğrulama ayarları**"
      ],
      "metadata": {
        "id": "X67FHvQAjaSt"
      }
    },
    {
      "cell_type": "code",
      "source": [
        "kf = StratifiedKFold(n_splits=5, shuffle=True, random_state=42)\n",
        "# Veriyi 5 katmana böler, sınıf dağılımını her katmanda dengeler ve rastgele karıştırır"
      ],
      "metadata": {
        "id": "EvCGB4_Jjfnp"
      },
      "execution_count": 106,
      "outputs": []
    },
    {
      "cell_type": "markdown",
      "source": [
        "**6.ADIM: Performans metriklerini kaydetmek için listeler**"
      ],
      "metadata": {
        "id": "vDNffXMcj7AR"
      }
    },
    {
      "cell_type": "code",
      "source": [
        "accuracies, precisions, recalls, f1_scores = [], [], [], []\n",
        "# Doğruluk, hassasiyet, duyarlılık ve F1-skoru değerlerini saklamak için boş listeler"
      ],
      "metadata": {
        "id": "-0ktNh-WkA45"
      },
      "execution_count": 107,
      "outputs": []
    },
    {
      "cell_type": "markdown",
      "source": [
        "**7.ADIM: MLP Modeli ve Çapraz Doğrulama döngüsü**"
      ],
      "metadata": {
        "id": "_6yL-spkkBc7"
      }
    },
    {
      "cell_type": "code",
      "source": [
        "for train_index, test_index in kf.split(X_scaled, y):\n",
        "    # Her bir katman için eğitim ve test indekslerini al\n",
        "    X_train, X_test = X_scaled[train_index], X_scaled[test_index]\n",
        "    y_train, y_test = y[train_index], y[test_index]\n",
        "    # Eğitim ve test verilerini indekslere göre ayır\n",
        "\n",
        "    model = tf.keras.Sequential([  # Katmanları sıralı bir şekilde oluştur\n",
        "        tf.keras.layers.Input(shape=(X_train.shape[1],)),  # Giriş katmanı (özellik sayısı kadar düğüm)\n",
        "        tf.keras.layers.Dense(128, activation='relu', input_shape=(X_train.shape[1],)),\n",
        "        # İlk gizli katman (128 düğüm, ReLU aktivasyonu)\n",
        "        tf.keras.layers.Dropout(0.2),  # Overfitting'i önlemek için dropout (%20 oranında)\n",
        "        tf.keras.layers.Dense(64, activation='relu'),\n",
        "        # İkinci gizli katman (64 düğüm, ReLU aktivasyonu)\n",
        "        tf.keras.layers.Dropout(0.2),  # Dropout (%20 oranında)\n",
        "        tf.keras.layers.Dense(1, activation='sigmoid')\n",
        "        # Çıkış katmanı (1 düğüm, sigmoid aktivasyonu, ikili sınıflandırma için)\n",
        "    ])\n",
        "\n",
        "    model.compile(optimizer='adam',\n",
        "                  loss='binary_crossentropy',\n",
        "                  metrics=['accuracy'])"
      ],
      "metadata": {
        "colab": {
          "base_uri": "https://localhost:8080/"
        },
        "id": "hhMowhK9kHhC",
        "outputId": "21cb1ea4-dad1-4a47-de88-252c0ec1424c"
      },
      "execution_count": 108,
      "outputs": [
        {
          "output_type": "stream",
          "name": "stderr",
          "text": [
            "/usr/local/lib/python3.10/dist-packages/keras/src/layers/core/dense.py:87: UserWarning: Do not pass an `input_shape`/`input_dim` argument to a layer. When using Sequential models, prefer using an `Input(shape)` object as the first layer in the model instead.\n",
            "  super().__init__(activity_regularizer=activity_regularizer, **kwargs)\n"
          ]
        }
      ]
    },
    {
      "cell_type": "markdown",
      "source": [
        "**8.ADIM: Modeli eğitme**"
      ],
      "metadata": {
        "id": "GPVxBFmxkRCO"
      }
    },
    {
      "cell_type": "code",
      "source": [
        "model.fit(X_train, y_train, epochs=50, batch_size=16, verbose=1)\n",
        "    # Modeli 50 epoch boyunca 16'lık mini batch'lerle eğit, her epoch sonucu yazdır"
      ],
      "metadata": {
        "colab": {
          "base_uri": "https://localhost:8080/"
        },
        "id": "mUG3i7RhkTiD",
        "outputId": "4d070ae3-5d3f-48c6-b0af-1a5fb52d0655"
      },
      "execution_count": 109,
      "outputs": [
        {
          "output_type": "stream",
          "name": "stdout",
          "text": [
            "Epoch 1/50\n",
            "\u001b[1m39/39\u001b[0m \u001b[32m━━━━━━━━━━━━━━━━━━━━\u001b[0m\u001b[37m\u001b[0m \u001b[1m1s\u001b[0m 2ms/step - accuracy: 0.6097 - loss: 0.6613\n",
            "Epoch 2/50\n",
            "\u001b[1m39/39\u001b[0m \u001b[32m━━━━━━━━━━━━━━━━━━━━\u001b[0m\u001b[37m\u001b[0m \u001b[1m0s\u001b[0m 2ms/step - accuracy: 0.7562 - loss: 0.5255\n",
            "Epoch 3/50\n",
            "\u001b[1m39/39\u001b[0m \u001b[32m━━━━━━━━━━━━━━━━━━━━\u001b[0m\u001b[37m\u001b[0m \u001b[1m0s\u001b[0m 2ms/step - accuracy: 0.7906 - loss: 0.4708\n",
            "Epoch 4/50\n",
            "\u001b[1m39/39\u001b[0m \u001b[32m━━━━━━━━━━━━━━━━━━━━\u001b[0m\u001b[37m\u001b[0m \u001b[1m0s\u001b[0m 2ms/step - accuracy: 0.7947 - loss: 0.4483\n",
            "Epoch 5/50\n",
            "\u001b[1m39/39\u001b[0m \u001b[32m━━━━━━━━━━━━━━━━━━━━\u001b[0m\u001b[37m\u001b[0m \u001b[1m0s\u001b[0m 2ms/step - accuracy: 0.7525 - loss: 0.4996\n",
            "Epoch 6/50\n",
            "\u001b[1m39/39\u001b[0m \u001b[32m━━━━━━━━━━━━━━━━━━━━\u001b[0m\u001b[37m\u001b[0m \u001b[1m0s\u001b[0m 2ms/step - accuracy: 0.7806 - loss: 0.4719\n",
            "Epoch 7/50\n",
            "\u001b[1m39/39\u001b[0m \u001b[32m━━━━━━━━━━━━━━━━━━━━\u001b[0m\u001b[37m\u001b[0m \u001b[1m0s\u001b[0m 2ms/step - accuracy: 0.8186 - loss: 0.3996\n",
            "Epoch 8/50\n",
            "\u001b[1m39/39\u001b[0m \u001b[32m━━━━━━━━━━━━━━━━━━━━\u001b[0m\u001b[37m\u001b[0m \u001b[1m0s\u001b[0m 2ms/step - accuracy: 0.7776 - loss: 0.4508\n",
            "Epoch 9/50\n",
            "\u001b[1m39/39\u001b[0m \u001b[32m━━━━━━━━━━━━━━━━━━━━\u001b[0m\u001b[37m\u001b[0m \u001b[1m0s\u001b[0m 2ms/step - accuracy: 0.8054 - loss: 0.4230\n",
            "Epoch 10/50\n",
            "\u001b[1m39/39\u001b[0m \u001b[32m━━━━━━━━━━━━━━━━━━━━\u001b[0m\u001b[37m\u001b[0m \u001b[1m0s\u001b[0m 3ms/step - accuracy: 0.7958 - loss: 0.4411\n",
            "Epoch 11/50\n",
            "\u001b[1m39/39\u001b[0m \u001b[32m━━━━━━━━━━━━━━━━━━━━\u001b[0m\u001b[37m\u001b[0m \u001b[1m0s\u001b[0m 2ms/step - accuracy: 0.7845 - loss: 0.4373\n",
            "Epoch 12/50\n",
            "\u001b[1m39/39\u001b[0m \u001b[32m━━━━━━━━━━━━━━━━━━━━\u001b[0m\u001b[37m\u001b[0m \u001b[1m0s\u001b[0m 2ms/step - accuracy: 0.7989 - loss: 0.4416\n",
            "Epoch 13/50\n",
            "\u001b[1m39/39\u001b[0m \u001b[32m━━━━━━━━━━━━━━━━━━━━\u001b[0m\u001b[37m\u001b[0m \u001b[1m0s\u001b[0m 2ms/step - accuracy: 0.7744 - loss: 0.4491\n",
            "Epoch 14/50\n",
            "\u001b[1m39/39\u001b[0m \u001b[32m━━━━━━━━━━━━━━━━━━━━\u001b[0m\u001b[37m\u001b[0m \u001b[1m0s\u001b[0m 2ms/step - accuracy: 0.7926 - loss: 0.4490\n",
            "Epoch 15/50\n",
            "\u001b[1m39/39\u001b[0m \u001b[32m━━━━━━━━━━━━━━━━━━━━\u001b[0m\u001b[37m\u001b[0m \u001b[1m0s\u001b[0m 2ms/step - accuracy: 0.8048 - loss: 0.4090\n",
            "Epoch 16/50\n",
            "\u001b[1m39/39\u001b[0m \u001b[32m━━━━━━━━━━━━━━━━━━━━\u001b[0m\u001b[37m\u001b[0m \u001b[1m0s\u001b[0m 2ms/step - accuracy: 0.7581 - loss: 0.4625\n",
            "Epoch 17/50\n",
            "\u001b[1m39/39\u001b[0m \u001b[32m━━━━━━━━━━━━━━━━━━━━\u001b[0m\u001b[37m\u001b[0m \u001b[1m0s\u001b[0m 3ms/step - accuracy: 0.7704 - loss: 0.4320\n",
            "Epoch 18/50\n",
            "\u001b[1m39/39\u001b[0m \u001b[32m━━━━━━━━━━━━━━━━━━━━\u001b[0m\u001b[37m\u001b[0m \u001b[1m0s\u001b[0m 2ms/step - accuracy: 0.7923 - loss: 0.4102\n",
            "Epoch 19/50\n",
            "\u001b[1m39/39\u001b[0m \u001b[32m━━━━━━━━━━━━━━━━━━━━\u001b[0m\u001b[37m\u001b[0m \u001b[1m0s\u001b[0m 2ms/step - accuracy: 0.8124 - loss: 0.4256\n",
            "Epoch 20/50\n",
            "\u001b[1m39/39\u001b[0m \u001b[32m━━━━━━━━━━━━━━━━━━━━\u001b[0m\u001b[37m\u001b[0m \u001b[1m0s\u001b[0m 2ms/step - accuracy: 0.8208 - loss: 0.3927\n",
            "Epoch 21/50\n",
            "\u001b[1m39/39\u001b[0m \u001b[32m━━━━━━━━━━━━━━━━━━━━\u001b[0m\u001b[37m\u001b[0m \u001b[1m0s\u001b[0m 2ms/step - accuracy: 0.8108 - loss: 0.3978\n",
            "Epoch 22/50\n",
            "\u001b[1m39/39\u001b[0m \u001b[32m━━━━━━━━━━━━━━━━━━━━\u001b[0m\u001b[37m\u001b[0m \u001b[1m0s\u001b[0m 2ms/step - accuracy: 0.8152 - loss: 0.4113\n",
            "Epoch 23/50\n",
            "\u001b[1m39/39\u001b[0m \u001b[32m━━━━━━━━━━━━━━━━━━━━\u001b[0m\u001b[37m\u001b[0m \u001b[1m0s\u001b[0m 2ms/step - accuracy: 0.8027 - loss: 0.4235\n",
            "Epoch 24/50\n",
            "\u001b[1m39/39\u001b[0m \u001b[32m━━━━━━━━━━━━━━━━━━━━\u001b[0m\u001b[37m\u001b[0m \u001b[1m0s\u001b[0m 4ms/step - accuracy: 0.8227 - loss: 0.4039\n",
            "Epoch 25/50\n",
            "\u001b[1m39/39\u001b[0m \u001b[32m━━━━━━━━━━━━━━━━━━━━\u001b[0m\u001b[37m\u001b[0m \u001b[1m0s\u001b[0m 3ms/step - accuracy: 0.7974 - loss: 0.4096\n",
            "Epoch 26/50\n",
            "\u001b[1m39/39\u001b[0m \u001b[32m━━━━━━━━━━━━━━━━━━━━\u001b[0m\u001b[37m\u001b[0m \u001b[1m0s\u001b[0m 4ms/step - accuracy: 0.7980 - loss: 0.4156\n",
            "Epoch 27/50\n",
            "\u001b[1m39/39\u001b[0m \u001b[32m━━━━━━━━━━━━━━━━━━━━\u001b[0m\u001b[37m\u001b[0m \u001b[1m0s\u001b[0m 3ms/step - accuracy: 0.7959 - loss: 0.4148\n",
            "Epoch 28/50\n",
            "\u001b[1m39/39\u001b[0m \u001b[32m━━━━━━━━━━━━━━━━━━━━\u001b[0m\u001b[37m\u001b[0m \u001b[1m0s\u001b[0m 4ms/step - accuracy: 0.8212 - loss: 0.3801\n",
            "Epoch 29/50\n",
            "\u001b[1m39/39\u001b[0m \u001b[32m━━━━━━━━━━━━━━━━━━━━\u001b[0m\u001b[37m\u001b[0m \u001b[1m0s\u001b[0m 3ms/step - accuracy: 0.8181 - loss: 0.3777\n",
            "Epoch 30/50\n",
            "\u001b[1m39/39\u001b[0m \u001b[32m━━━━━━━━━━━━━━━━━━━━\u001b[0m\u001b[37m\u001b[0m \u001b[1m0s\u001b[0m 3ms/step - accuracy: 0.8290 - loss: 0.3845\n",
            "Epoch 31/50\n",
            "\u001b[1m39/39\u001b[0m \u001b[32m━━━━━━━━━━━━━━━━━━━━\u001b[0m\u001b[37m\u001b[0m \u001b[1m0s\u001b[0m 3ms/step - accuracy: 0.8403 - loss: 0.3553\n",
            "Epoch 32/50\n",
            "\u001b[1m39/39\u001b[0m \u001b[32m━━━━━━━━━━━━━━━━━━━━\u001b[0m\u001b[37m\u001b[0m \u001b[1m0s\u001b[0m 4ms/step - accuracy: 0.8143 - loss: 0.4108\n",
            "Epoch 33/50\n",
            "\u001b[1m39/39\u001b[0m \u001b[32m━━━━━━━━━━━━━━━━━━━━\u001b[0m\u001b[37m\u001b[0m \u001b[1m0s\u001b[0m 3ms/step - accuracy: 0.7990 - loss: 0.4055\n",
            "Epoch 34/50\n",
            "\u001b[1m39/39\u001b[0m \u001b[32m━━━━━━━━━━━━━━━━━━━━\u001b[0m\u001b[37m\u001b[0m \u001b[1m0s\u001b[0m 4ms/step - accuracy: 0.8196 - loss: 0.3679\n",
            "Epoch 35/50\n",
            "\u001b[1m39/39\u001b[0m \u001b[32m━━━━━━━━━━━━━━━━━━━━\u001b[0m\u001b[37m\u001b[0m \u001b[1m0s\u001b[0m 2ms/step - accuracy: 0.8254 - loss: 0.3802\n",
            "Epoch 36/50\n",
            "\u001b[1m39/39\u001b[0m \u001b[32m━━━━━━━━━━━━━━━━━━━━\u001b[0m\u001b[37m\u001b[0m \u001b[1m0s\u001b[0m 3ms/step - accuracy: 0.8261 - loss: 0.3838\n",
            "Epoch 37/50\n",
            "\u001b[1m39/39\u001b[0m \u001b[32m━━━━━━━━━━━━━━━━━━━━\u001b[0m\u001b[37m\u001b[0m \u001b[1m0s\u001b[0m 2ms/step - accuracy: 0.8112 - loss: 0.3987\n",
            "Epoch 38/50\n",
            "\u001b[1m39/39\u001b[0m \u001b[32m━━━━━━━━━━━━━━━━━━━━\u001b[0m\u001b[37m\u001b[0m \u001b[1m0s\u001b[0m 2ms/step - accuracy: 0.8383 - loss: 0.3778\n",
            "Epoch 39/50\n",
            "\u001b[1m39/39\u001b[0m \u001b[32m━━━━━━━━━━━━━━━━━━━━\u001b[0m\u001b[37m\u001b[0m \u001b[1m0s\u001b[0m 2ms/step - accuracy: 0.8319 - loss: 0.3496\n",
            "Epoch 40/50\n",
            "\u001b[1m39/39\u001b[0m \u001b[32m━━━━━━━━━━━━━━━━━━━━\u001b[0m\u001b[37m\u001b[0m \u001b[1m0s\u001b[0m 2ms/step - accuracy: 0.8353 - loss: 0.3548\n",
            "Epoch 41/50\n",
            "\u001b[1m39/39\u001b[0m \u001b[32m━━━━━━━━━━━━━━━━━━━━\u001b[0m\u001b[37m\u001b[0m \u001b[1m0s\u001b[0m 2ms/step - accuracy: 0.8505 - loss: 0.3617\n",
            "Epoch 42/50\n",
            "\u001b[1m39/39\u001b[0m \u001b[32m━━━━━━━━━━━━━━━━━━━━\u001b[0m\u001b[37m\u001b[0m \u001b[1m0s\u001b[0m 2ms/step - accuracy: 0.8001 - loss: 0.3985\n",
            "Epoch 43/50\n",
            "\u001b[1m39/39\u001b[0m \u001b[32m━━━━━━━━━━━━━━━━━━━━\u001b[0m\u001b[37m\u001b[0m \u001b[1m0s\u001b[0m 2ms/step - accuracy: 0.8413 - loss: 0.3630\n",
            "Epoch 44/50\n",
            "\u001b[1m39/39\u001b[0m \u001b[32m━━━━━━━━━━━━━━━━━━━━\u001b[0m\u001b[37m\u001b[0m \u001b[1m0s\u001b[0m 3ms/step - accuracy: 0.8631 - loss: 0.3347\n",
            "Epoch 45/50\n",
            "\u001b[1m39/39\u001b[0m \u001b[32m━━━━━━━━━━━━━━━━━━━━\u001b[0m\u001b[37m\u001b[0m \u001b[1m0s\u001b[0m 2ms/step - accuracy: 0.8499 - loss: 0.3436\n",
            "Epoch 46/50\n",
            "\u001b[1m39/39\u001b[0m \u001b[32m━━━━━━━━━━━━━━━━━━━━\u001b[0m\u001b[37m\u001b[0m \u001b[1m0s\u001b[0m 2ms/step - accuracy: 0.8546 - loss: 0.3429\n",
            "Epoch 47/50\n",
            "\u001b[1m39/39\u001b[0m \u001b[32m━━━━━━━━━━━━━━━━━━━━\u001b[0m\u001b[37m\u001b[0m \u001b[1m0s\u001b[0m 2ms/step - accuracy: 0.8566 - loss: 0.3372\n",
            "Epoch 48/50\n",
            "\u001b[1m39/39\u001b[0m \u001b[32m━━━━━━━━━━━━━━━━━━━━\u001b[0m\u001b[37m\u001b[0m \u001b[1m0s\u001b[0m 2ms/step - accuracy: 0.8698 - loss: 0.3460\n",
            "Epoch 49/50\n",
            "\u001b[1m39/39\u001b[0m \u001b[32m━━━━━━━━━━━━━━━━━━━━\u001b[0m\u001b[37m\u001b[0m \u001b[1m0s\u001b[0m 2ms/step - accuracy: 0.8622 - loss: 0.3451\n",
            "Epoch 50/50\n",
            "\u001b[1m39/39\u001b[0m \u001b[32m━━━━━━━━━━━━━━━━━━━━\u001b[0m\u001b[37m\u001b[0m \u001b[1m0s\u001b[0m 2ms/step - accuracy: 0.8371 - loss: 0.3326\n"
          ]
        },
        {
          "output_type": "execute_result",
          "data": {
            "text/plain": [
              "<keras.src.callbacks.history.History at 0x7f64afd43970>"
            ]
          },
          "metadata": {},
          "execution_count": 109
        }
      ]
    },
    {
      "cell_type": "markdown",
      "source": [
        "**9.ADIM: Tahmin yapma**"
      ],
      "metadata": {
        "id": "NXFKVCA3kTpB"
      }
    },
    {
      "cell_type": "code",
      "source": [
        "y_pred = (model.predict(X_test) > 0.5).astype(int)\n",
        "    # Modelin tahminlerini al ve 0.5 eşik değeri kullanarak sınıflandır"
      ],
      "metadata": {
        "colab": {
          "base_uri": "https://localhost:8080/"
        },
        "id": "8naAAx0MkZeJ",
        "outputId": "54ff3b41-089b-454d-b181-9270cbadf207"
      },
      "execution_count": 110,
      "outputs": [
        {
          "output_type": "stream",
          "name": "stdout",
          "text": [
            "\u001b[1m5/5\u001b[0m \u001b[32m━━━━━━━━━━━━━━━━━━━━\u001b[0m\u001b[37m\u001b[0m \u001b[1m0s\u001b[0m 12ms/step\n"
          ]
        }
      ]
    },
    {
      "cell_type": "markdown",
      "source": [
        "**10.ADIM: Performans metriklerini hesaplama**"
      ],
      "metadata": {
        "id": "_GsH_CC3kcBV"
      }
    },
    {
      "cell_type": "code",
      "source": [
        "accuracies.append(accuracy_score(y_test, y_pred))  # Doğruluk oranı\n",
        "precisions.append(precision_score(y_test, y_pred))  # Hassasiyet\n",
        "recalls.append(recall_score(y_test, y_pred))  # Duyarlılık\n",
        "f1_scores.append(f1_score(y_test, y_pred))  # F1 skoru\n"
      ],
      "metadata": {
        "id": "Pj4hbY5ekebQ"
      },
      "execution_count": 111,
      "outputs": []
    },
    {
      "cell_type": "markdown",
      "source": [
        "**11.ADIM: Ortalama metrikleri yazdırma**"
      ],
      "metadata": {
        "id": "2gj_KUWjlAw1"
      }
    },
    {
      "cell_type": "code",
      "source": [
        "print(f\"Ortalama Doğruluk: {np.mean(accuracies):.4f}\")  # Tüm katmanlar için ortalama doğruluk\n",
        "print(f\"Ortalama Hassasiyet: {np.mean(precisions):.4f}\")  # Ortalama hassasiyet\n",
        "print(f\"Ortalama Duyarlılık: {np.mean(recalls):.4f}\")  # Ortalama duyarlılık\n",
        "print(f\"Ortalama F1-Skoru: {np.mean(f1_scores):.4f}\")  # Ortalama F1-skoru"
      ],
      "metadata": {
        "colab": {
          "base_uri": "https://localhost:8080/"
        },
        "id": "dSEKRljllFNV",
        "outputId": "a0806ea1-d085-4c9d-d5db-f102c445ccf5"
      },
      "execution_count": 112,
      "outputs": [
        {
          "output_type": "stream",
          "name": "stdout",
          "text": [
            "Ortalama Doğruluk: 0.7516\n",
            "Ortalama Hassasiyet: 0.6415\n",
            "Ortalama Duyarlılık: 0.6415\n",
            "Ortalama F1-Skoru: 0.6415\n"
          ]
        }
      ]
    }
  ]
}