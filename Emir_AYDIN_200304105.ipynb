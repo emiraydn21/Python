{
  "nbformat": 4,
  "nbformat_minor": 0,
  "metadata": {
    "colab": {
      "provenance": [],
      "authorship_tag": "ABX9TyMnqB1f9/hynwYbo0+OIYVI",
      "include_colab_link": true
    },
    "kernelspec": {
      "name": "python3",
      "display_name": "Python 3"
    },
    "language_info": {
      "name": "python"
    }
  },
  "cells": [
    {
      "cell_type": "markdown",
      "metadata": {
        "id": "view-in-github",
        "colab_type": "text"
      },
      "source": [
        "<a href=\"https://colab.research.google.com/github/emiraydn21/Python/blob/main/Emir_AYDIN_200304105.ipynb\" target=\"_parent\"><img src=\"https://colab.research.google.com/assets/colab-badge.svg\" alt=\"Open In Colab\"/></a>"
      ]
    },
    {
      "cell_type": "markdown",
      "source": [
        "# **EMİR AYDIN 200304105** "
      ],
      "metadata": {
        "id": "huJi62aMtb7U"
      }
    },
    {
      "cell_type": "markdown",
      "source": [
        "**1.Soru -)** Kendi hariç tüm bölenlerinin toplamı kendine eşit olan sayılara mükemmel sayı denir. \n",
        "Mükemmel sayılara örnekler:\n",
        "6 = 1 + 2 + 3\n",
        "28 = 1 + 2 + 4 + 7 + 14\n",
        "Kullanıcıdan bir tamsayı değeri isteyen ve bu tamsayıdan küçük tüm pozitif mükemmel \n",
        "sayıları ekrana yazdıran programı Python programlama dilini kullanarak yazın. Örnek: \n",
        "kullanıcı eğer 500 girerse ekranda 6; 28; 496 yazmalı."
      ],
      "metadata": {
        "id": "Lk_HmP8drKhW"
      }
    },
    {
      "cell_type": "code",
      "source": [
        "def mukemmel_sayi_bul(n):  \n",
        "    mukemmel_sayilar = [] \n",
        "    for i in range(1, n): # Tüm pozitif tam sayıları kontrol et\n",
        "        toplam = 0\n",
        "        for j in range(1, i): # Tam sayı i'nin pozitif bölenlerini bul\n",
        "            if i % j == 0:\n",
        "                toplam += j\n",
        "        if toplam == i:  # Eğer i bir mükemmel sayı ise, ekrana yazdır\n",
        "            mukemmel_sayilar.append(i)\n",
        "    return mukemmel_sayilar\n",
        "\n",
        "sayi = int(input(\"Bir tamsayı girin: \")) # Kullanıcıdan bir tamsayı değeri iste\n",
        "mukemmel_sayilar = mukemmel_sayi_bul(sayi)\n",
        "print(\"Girilen sayıdan küçük pozitif mükemmel sayılar:\", mukemmel_sayilar) \n",
        "if sayi in mukemmel_sayilar:\n",
        "    print(sayi, \"mükemmel bir sayıdır.\")\n",
        "else:\n",
        "    print(sayi, \"mükemmel bir sayı değildir.\")\n"
      ],
      "metadata": {
        "colab": {
          "base_uri": "https://localhost:8080/"
        },
        "id": "TchDu3aJrTM1",
        "outputId": "9ad1dc71-043b-4ee5-a975-383e1e71892b"
      },
      "execution_count": null,
      "outputs": [
        {
          "output_type": "stream",
          "name": "stdout",
          "text": [
            "Bir tamsayı girin: 500\n",
            "Girilen sayıdan küçük pozitif mükemmel sayılar: [6, 28, 496]\n",
            "500 mükemmel bir sayı değildir.\n"
          ]
        }
      ]
    },
    {
      "cell_type": "markdown",
      "source": [
        "**2.Soru-)**Öğrenci numaranızın mükemmel sayı olup olmadığını 1. Soruda yazdığınız kod ile test edin.\n"
      ],
      "metadata": {
        "id": "xZJDlIaGsJES"
      }
    },
    {
      "cell_type": "code",
      "source": [
        "print(\"1.soruda okul numaram(200304105)olan kodu denedim fakat numara 6 haneli  olduğu için işlem 30 dakikadan fazla sürüyor.\")  \n",
        "print(\"Online Compiler de aldığım sonuçta Mükemmel bir sayı değildir cevabını aldım.\")\n",
        "print(\"Zamanınız varsa kodu çalıştırabilirsiniz hocam.\")"
      ],
      "metadata": {
        "colab": {
          "base_uri": "https://localhost:8080/"
        },
        "id": "f_wsAc1SuuNw",
        "outputId": "ee7b1a55-6dee-49c4-eb3e-cd7b63dc8ecf"
      },
      "execution_count": null,
      "outputs": [
        {
          "output_type": "stream",
          "name": "stdout",
          "text": [
            "1.soruda okul numaram(200304105)olan kodu denedim fakat numara 6 haneli  olduğu için işlem 30 dakikadan fazla sürüyor.\n",
            "Online Compiler de aldığım sonuçta Mükemmel bir sayı değildir cevabını aldım.\n",
            "Zamanınız varsa kodu çalıştırabilirsiniz hocam.\n"
          ]
        }
      ]
    },
    {
      "cell_type": "markdown",
      "source": [
        "**3.Soru-)** Kullanıcıdan dosya ismi aldıktan sonra bu dosyanın uzantısını ekranda yazdıran programı \n",
        "yazın. (20 puan) Dosya ismi uzantısı sabit uzunlukta değildir; 1,2,3,4 karakter içerebilir.\n",
        "Örnek: dosya ismi : merhaba.xlsx\n",
        "Çıktı : xlsx"
      ],
      "metadata": {
        "id": "GkvTZylbw7v2"
      }
    },
    {
      "cell_type": "code",
      "source": [
        "metin=input(\"Dosya İsmi: \")\n",
        "if '.' in metin:\n",
        "  i=metin.index('.')+1\n",
        "  print(\"Uzantısı:\", metin[i:])"
      ],
      "metadata": {
        "colab": {
          "base_uri": "https://localhost:8080/"
        },
        "id": "kM4ZvKyxygKo",
        "outputId": "5a8f17de-534f-42c4-aaba-b0a2f4c24c31"
      },
      "execution_count": null,
      "outputs": [
        {
          "output_type": "stream",
          "name": "stdout",
          "text": [
            "Dosya İsmi: emircan.aydin\n",
            "Uzantısı: aydin\n"
          ]
        }
      ]
    },
    {
      "cell_type": "markdown",
      "source": [
        "**4.Soru-)** Bir sözlük yapısı düşünün. İçinde halihazırda isim, yas, ve dersler olmak üzer 3 tane anahtar \n",
        "bulunuyor. Sözlüğün adı ogrenci olsun. İsmin değeri sizin isminiz, yasın değeri sizin yaşınız, ve \n",
        "dersin değeri Matematik olsun. \n"
      ],
      "metadata": {
        "id": "n1WJXlJrBnke"
      }
    },
    {
      "cell_type": "markdown",
      "source": [
        "**4.a-)**Bu sözlük yapısını içindeki anahtar ve değer ikililerini verildiği gibi tanımlayın.**\n"
      ],
      "metadata": {
        "id": "h9iXRd3cBzBF"
      }
    },
    {
      "cell_type": "code",
      "source": [
        "ogrenci={\n",
        "\t    \"Isim\":\"Emir\",\n",
        "\t    \"Yas\":\"22\",\n",
        "\t    \"Dersler\":\"Matematik\"\n",
        "\t}\n"
      ],
      "metadata": {
        "id": "x7oRZtX5CTNw"
      },
      "execution_count": null,
      "outputs": []
    },
    {
      "cell_type": "markdown",
      "source": [
        "**4.b-)** Bu sözlük yapısının tüm içeriğini ekranda yazdıran komutu yazın."
      ],
      "metadata": {
        "id": "3JQRPBAyCTxx"
      }
    },
    {
      "cell_type": "code",
      "source": [
        "print (ogrenci)\n",
        "\n"
      ],
      "metadata": {
        "colab": {
          "base_uri": "https://localhost:8080/"
        },
        "id": "YkhXPopeCan5",
        "outputId": "59606552-015f-492e-f07d-9dcc2a320c99"
      },
      "execution_count": null,
      "outputs": [
        {
          "output_type": "stream",
          "name": "stdout",
          "text": [
            "{'Isim': 'Emir', 'Yas': '22', 'Dersler': 'Matematik'}\n"
          ]
        }
      ]
    },
    {
      "cell_type": "markdown",
      "source": [
        "**4.c-)**Bu sözlük yapısına yeni bir anahtar değer ikilisi ekleyin."
      ],
      "metadata": {
        "id": "M0Gdv-tdCg5h"
      }
    },
    {
      "cell_type": "code",
      "source": [
        "ogrenci[\"Üniversite\"]=\"Siirt Üniversitesi\"\n",
        "\n"
      ],
      "metadata": {
        "id": "_fpTeC9iCmr0"
      },
      "execution_count": null,
      "outputs": []
    },
    {
      "cell_type": "markdown",
      "source": [
        "**4.d-)**Bu sözlük yapısında tek satırda ismin değerini Mehmet ve yasın değerini 25 olarak \n",
        "güncellemek için hangi komut nasıl kullanılmalıdır?"
      ],
      "metadata": {
        "id": "0Q1OJenOCngU"
      }
    },
    {
      "cell_type": "code",
      "source": [
        "ogrenci.update({\"Isim\":\"Mehmet\",\"Yas\":\"25\"}) \n"
      ],
      "metadata": {
        "id": "2RHRv-VNCukz"
      },
      "execution_count": null,
      "outputs": []
    },
    {
      "cell_type": "markdown",
      "source": [
        "**4.e-)**Yas ve değer ikilisini tamamen silmek için hangi komut yazılmalıdır?"
      ],
      "metadata": {
        "id": "t7ZT5v-AC3Bh"
      }
    },
    {
      "cell_type": "code",
      "source": [
        "ogrenci.pop(\"Yas\")\n"
      ],
      "metadata": {
        "colab": {
          "base_uri": "https://localhost:8080/",
          "height": 35
        },
        "id": "GqiF7t3zC6oC",
        "outputId": "e535ffc7-6805-42d9-e983-17952c7835ef"
      },
      "execution_count": null,
      "outputs": [
        {
          "output_type": "execute_result",
          "data": {
            "text/plain": [
              "'25'"
            ],
            "application/vnd.google.colaboratory.intrinsic+json": {
              "type": "string"
            }
          },
          "metadata": {},
          "execution_count": 70
        }
      ]
    },
    {
      "cell_type": "markdown",
      "source": [
        "**4.f-)**Bu sözlük yapısı içindeki anahtar değerlerini sayan ve ekranda yazan komutu yazın.\n"
      ],
      "metadata": {
        "id": "MASd4VwoC7M0"
      }
    },
    {
      "cell_type": "code",
      "source": [
        "print(ogrenci)\n",
        "print(len(ogrenci.keys()))\n"
      ],
      "metadata": {
        "colab": {
          "base_uri": "https://localhost:8080/"
        },
        "id": "9Tj9NZ5JDB6k",
        "outputId": "33d5fb24-bfab-4072-d437-3cb1372d5c05"
      },
      "execution_count": null,
      "outputs": [
        {
          "output_type": "stream",
          "name": "stdout",
          "text": [
            "{'Isim': 'Mehmet', 'Dersler': 'Matematik', 'Üniversite': 'Siirt Üniversitesi'}\n",
            "3\n"
          ]
        }
      ]
    },
    {
      "cell_type": "markdown",
      "source": [
        "**4.g-)**Bu sözlük içindeki sadece anahtarları ekranda yazdırmak için gerekli olan kodu yazın.\n"
      ],
      "metadata": {
        "id": "q713GssPDGUx"
      }
    },
    {
      "cell_type": "code",
      "source": [
        "print(ogrenci.keys())"
      ],
      "metadata": {
        "colab": {
          "base_uri": "https://localhost:8080/"
        },
        "id": "8pVudeFJDLwh",
        "outputId": "f9af14dc-1736-4b00-fb39-bffb79cef915"
      },
      "execution_count": null,
      "outputs": [
        {
          "output_type": "stream",
          "name": "stdout",
          "text": [
            "dict_keys(['Isim', 'Dersler', 'Üniversite'])\n"
          ]
        }
      ]
    },
    {
      "cell_type": "markdown",
      "source": [
        "**4.h-)**Anahtar ve değer ikililerini her bir satırda bir ikili olacak şekilde ekranda yazdırmak \n",
        "istiyoruz. Gerekli olan kodu yazın."
      ],
      "metadata": {
        "id": "8f94ivhODMAz"
      }
    },
    {
      "cell_type": "code",
      "source": [
        "for anahtar, deger in ogrenci.items():\n",
        "    print(anahtar+\":\", deger)\n"
      ],
      "metadata": {
        "colab": {
          "base_uri": "https://localhost:8080/"
        },
        "id": "6KfuX3sLDVk1",
        "outputId": "77bbb74b-0acc-46b6-bed5-cf2518dc038c"
      },
      "execution_count": null,
      "outputs": [
        {
          "output_type": "stream",
          "name": "stdout",
          "text": [
            "Isim: Mehmet\n",
            "Dersler: Matematik\n",
            "Üniversite: Siirt Üniversitesi\n"
          ]
        }
      ]
    },
    {
      "cell_type": "markdown",
      "source": [
        "**5.soru-)** Aşağıda bir sayıya kadar olan sayılardan basamaklarının sayı değerleri küpleri toplamı kendine \n",
        "eşit olan sayıları ekranda yazdıran fonksiyon yazılmıştır. Bir yerde hata bulunmaktadır. Hatanın \n",
        "ne olduğunu ve nasıl düzeltilmesi gerektiğini yazınız."
      ],
      "metadata": {
        "id": "32yYUvLlJjNB"
      }
    },
    {
      "cell_type": "code",
      "source": [
        "def kuplertoplam2(n):\n",
        "    for i1 in range(1,n+1):\n",
        "        sa_str = str(i1)\n",
        "        bs = len(sa_str)\n",
        "        sd = []\n",
        "        top = 0 # top değişkeninin tanımlanması eklenmiştir.\n",
        "        for j1 in range(1,bs+1):\n",
        "            sd.append(int(sa_str[j1-1]))\n",
        "        #sayı değerleri küp toplamı bul\n",
        "        for k1 in range(0,bs):\n",
        "             top=top+sd[k1]*sd[k1]*sd[k1]\n",
        "        if i1 == top:\n",
        "            print(i1)\n",
        "kuplertoplam2(50) #<------Bu kodu da çıktı vermesi için ekledik."
      ],
      "metadata": {
        "colab": {
          "base_uri": "https://localhost:8080/"
        },
        "id": "2Fad-iJVnxle",
        "outputId": "39035d97-cac3-4606-bd39-3f719d2cfa66"
      },
      "execution_count": 1,
      "outputs": [
        {
          "output_type": "stream",
          "name": "stdout",
          "text": [
            "1\n"
          ]
        }
      ]
    },
    {
      "cell_type": "markdown",
      "source": [
        " **5.Soru AÇIKLAMA** Burada top = 0 değişkenini tanımladık ve hata önleminin önüne geçtik. Testi ise yukarıda def içinde oluşturduğumuz kuplertoplam2() fonksiyonunun içinde n olarak tanımladığımız değeri aşağıda int değer vererek çıktıyı ekrana verdik."
      ],
      "metadata": {
        "id": "MgM6vusTwC9D"
      }
    }
  ]
}