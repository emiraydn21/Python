{
  "nbformat": 4,
  "nbformat_minor": 0,
  "metadata": {
    "colab": {
      "provenance": [],
      "authorship_tag": "ABX9TyNVgHSAKOfGp0dPzDgqB9AQ",
      "include_colab_link": true
    },
    "kernelspec": {
      "name": "python3",
      "display_name": "Python 3"
    },
    "language_info": {
      "name": "python"
    }
  },
  "cells": [
    {
      "cell_type": "markdown",
      "metadata": {
        "id": "view-in-github",
        "colab_type": "text"
      },
      "source": [
        "<a href=\"https://colab.research.google.com/github/emiraydn21/Python/blob/main/Emir_AYDIN_PD_Final_S%C4%B1nav.ipynb\" target=\"_parent\"><img src=\"https://colab.research.google.com/assets/colab-badge.svg\" alt=\"Open In Colab\"/></a>"
      ]
    },
    {
      "cell_type": "markdown",
      "source": [
        "# **EMİR AYDIN 200304105**\n",
        "https://github.com/emiraydn21/Python Bu link üzerinden bu projeye ulaşabilirsiniz."
      ],
      "metadata": {
        "id": "m5rAGZke0ErU"
      }
    },
    {
      "cell_type": "markdown",
      "source": [
        "Sınavda bizden istediğiniz belirli kurallar çerçevesinde gerek metin olarak gerek yorum satırı olarak istediğiniz statüde hazırlamaya çalıştım. Kodu bir bütün halinde yazmak yerine aşağıda görüldüğü şekilde anlatmak istedim."
      ],
      "metadata": {
        "id": "wpTDHa0POkM_"
      }
    },
    {
      "cell_type": "markdown",
      "source": [
        "İlk olarak Shapely ve numpy kütüphanesi kullanmadan çözün dediniz o yüzden  math modülünden sqrt fonksiyonu import ettim."
      ],
      "metadata": {
        "id": "cZXs2TjEGNzE"
      }
    },
    {
      "cell_type": "code",
      "source": [
        "from math import sqrt"
      ],
      "metadata": {
        "id": "Uza8wFrfHmyR"
      },
      "execution_count": 43,
      "outputs": []
    },
    {
      "cell_type": "markdown",
      "source": [
        "Daha sonra bir Nokta sınıfı tanımladım. Bu sınıf, bir noktanın koordinatlarını temsil ediyor ve aynı zamanda iki nokta arasındaki öklid mesafesini hesaplıyor."
      ],
      "metadata": {
        "id": "_9mjmM5_H7NQ"
      }
    },
    {
      "cell_type": "code",
      "execution_count": 44,
      "metadata": {
        "id": "8QR5TDIwzqYf"
      },
      "outputs": [],
      "source": [
        "# Nokta sınıfı\n",
        "class Nokta:  \n",
        "    def __init__(self, x, y):\n",
        "        self.x = x\n",
        "        self.y = y\n",
        "    # Oklid denklemi\n",
        "    def oklid(self, nokta2):  \n",
        "        return sqrt(pow((self.x - nokta2.x), 2) + pow((self.y - nokta2.y), 2))"
      ]
    },
    {
      "cell_type": "markdown",
      "source": [
        "Sonra Doğru sınıfı tanımladım. Bu sınıf, iki noktadan oluşan bir doğruyu temsil ediyor ve İki nokta arasındaki kesişme durumunu hesaplıyor."
      ],
      "metadata": {
        "id": "7qe-3FGIIQdg"
      }
    },
    {
      "cell_type": "code",
      "source": [
        "class Dogru:  # Dogru sınıfı\n",
        "    def __init__(self, nokta1, nokta2):\n",
        "        self.nokta1 = Nokta(nokta1.x, nokta1.y)\n",
        "        self.nokta2 = Nokta(nokta2.x, nokta2.y)\n",
        "\n",
        "    def dogruKesisimi(self, dogru2):\n",
        "        X1, Y1 = self.nokta1.x, self.nokta1.y\n",
        "        X2, Y2 = self.nokta2.x, self.nokta2.y\n",
        "        X3, Y3 = dogru2.nokta1.x, dogru2.nokta1.y\n",
        "        X4, Y4 = dogru2.nokta2.x, dogru2.nokta2.y\n",
        "\n",
        "        # UA VE UB hesaplama\n",
        "        ua_pay = ((X4 - X3) * (Y1 - Y3) - (Y4 - Y3) * (X1 - X3))\n",
        "        ub_pay = ((X2 - X1) * (Y1 - Y3) - (Y2 - Y1) * (X1 - X3))\n",
        "        uab_payda = ((Y4 - Y3) * (X2 - X1) - (X4 - X3) * (Y2 - Y1))\n",
        "        \n",
        "        #Birbirine yakın doğrular çember oluşturmaz.\n",
        "        if (uab_payda == 0) and (ua_pay == 0) and (ub_pay == 0):  \n",
        "            return False\n",
        "        else:  # eğer doğrular bir noktada kesişiyorsa Doğru değerini döndür.\n",
        "            return True"
      ],
      "metadata": {
        "id": "QWln5dfVD_nM"
      },
      "execution_count": 45,
      "outputs": []
    },
    {
      "cell_type": "markdown",
      "source": [
        "Son olarak bir Çember sınıfı tanımladım. Bu sınıf, üç noktadan oluşan bir çemberi temsil edip Çemberin merkezini ve yarıçapını hesaplıyor."
      ],
      "metadata": {
        "id": "MNevsie5JaFK"
      }
    },
    {
      "cell_type": "code",
      "source": [
        "class Cember:\n",
        "    def __init__(self, nokta1, nokta2, nokta3):  # Çember sınıfı\n",
        "        self.nokta1 = Nokta(nokta1.x, nokta1.y)\n",
        "        self.nokta2 = Nokta(nokta2.x, nokta2.y)\n",
        "        self.nokta3 = Nokta(nokta3.x, nokta3.y)\n",
        "\n",
        "    def MerkezVeYaricap(self): #Merkez ve yarıçapı bulan metodumuz.\n",
        "        x1, y1 = self.nokta1.x, self.nokta1.y\n",
        "        x2, y2 = self.nokta2.x, self.nokta2.y\n",
        "        x3, y3 = self.nokta3.x, self.nokta3.y\n",
        "        #İki doğru oluşturdum(d1 ve d2), bu doğrular çemberin çevresinden geçen iki çizgidir.\n",
        "        d1 = Dogru(Nokta(x1, y1), Nokta(x2, y2))\n",
        "        d2 = Dogru(Nokta(x2, y2), Nokta(x3, y3))\n",
        "\n",
        "        kesisimDurum = d1.dogruKesisimi(d2)\n",
        "        #İki doğrunun kesişme durumu kontrol edilir. Eğer doğrular çakışıksa, çember oluşmaz ve False değeri döndürülür.\n",
        "        if  kesisimDurum == False:\n",
        "            print(\"Doğrular çakışıktır çember oluşmaz\")\n",
        "            return False\n",
        "\n",
        "        ma = (y2 - y1) / (x2 - x1)  # a doğrusu eğimi\n",
        "        mb = (y3 - y2) / (x3 - x2)  # b doğrusu eğimi\n",
        "\n",
        "        if mb - ma == 0.0:  # mb - ma = 0 ise paraleldir çember oluşturmaz\n",
        "            print(\"Doğrular Paraleldir çember oluşmaz\")\n",
        "            return False\n",
        "\n",
        "        x = (ma * mb * (y1 - y3) + mb * (x1 + x2) - ma * (x2 + x3)) / (2 * (mb - ma))  # x değeri\n",
        "        ya_ = (-1 / ma) * (x - ((x1 + x2) / 2)) + ((y1 + y2) / 2)  # (y'a) değeri\n",
        "        yb_ = (-1 / mb) * (x - ((x2 + x3) / 2)) + ((y2 + y3) / 2)  # (y'b) değeri\n",
        "\n",
        "        print(\"Çemberin merkezi: {0},{1}  \".format(x, ya_))\n",
        "        yaricap = self.nokta1.oklid(Nokta(x, yb_))  # yarıçap\n",
        "        print(\"Çemberin yarıçapı : {0}\".format(yaricap))\n",
        "#Yazdığınız çember metoduna su üç noktayı (x,y) göndererek merkezini ve yarıçapını hesaplatın: (6,3), \n",
        "(4,1), (2.59,1.59)\n",
        "\n",
        "P1 = Nokta(6, 3)  # global değişkenler oluşturduk\n",
        "P2 = Nokta(4, 1)\n",
        "P3 = Nokta(2.59, 1.59)"
      ],
      "metadata": {
        "id": "2Q7o5xH-EOOR"
      },
      "execution_count": 46,
      "outputs": []
    },
    {
      "cell_type": "markdown",
      "source": [
        "Çemberin merkezi ve yarıçapı ekrana yazdırmak için aşağıdaki kod bloğunu çalıştırıp çıktıya ulaşabilirsiniz hocam."
      ],
      "metadata": {
        "id": "8WQuFNU5MKZo"
      }
    },
    {
      "cell_type": "code",
      "source": [
        "cember = Cember(P1, P2, P3)  # global bir Çember nesnesi oluşturduk\n",
        "cember.MerkezVeYaricap()"
      ],
      "metadata": {
        "colab": {
          "base_uri": "https://localhost:8080/"
        },
        "id": "1DF1wQ4OEnNn",
        "outputId": "afaf5bfe-4b2c-415b-bc0b-b26d589ca447"
      },
      "execution_count": 47,
      "outputs": [
        {
          "output_type": "stream",
          "name": "stdout",
          "text": [
            "Çemberin merkezi: 4.00595,2.9940499999999997  \n",
            "Çemberin yarıçapı : 1.9940588770144172\n"
          ]
        }
      ]
    }
  ]
}